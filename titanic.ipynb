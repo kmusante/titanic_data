{
 "cells": [
  {
   "cell_type": "code",
   "execution_count": 5,
   "metadata": {
    "collapsed": true
   },
   "outputs": [],
   "source": [
    "#laod CSV File as pd and name titanic_data\n",
    "#load needed libraries\n",
    "\n",
    "import numpy as np\n",
    "import pandas as pd\n",
    "import matplotlib.pyplot as plt\n",
    "from collections import defaultdict\n",
    "\n",
    "\n",
    "titanic_data=pd.read_csv(\"titanic-data.csv\")\n",
    "\n"
   ]
  },
  {
   "cell_type": "code",
   "execution_count": 6,
   "metadata": {
    "collapsed": true
   },
   "outputs": [],
   "source": [
    "#Questions I'd like to explore:\n",
    "#1.  Were the survivors more likely to be women or children?\n",
    "#2.  What was the average ticket price of the survivors and did cost of the ticket matter in survivability?"
   ]
  },
  {
   "cell_type": "code",
   "execution_count": 94,
   "metadata": {},
   "outputs": [
    {
     "name": "stdout",
     "output_type": "stream",
     "text": [
      "   PassengerId  Survived  Pclass  \\\n",
      "0            1         0       3   \n",
      "1            2         1       1   \n",
      "2            3         1       3   \n",
      "3            4         1       1   \n",
      "4            5         0       3   \n",
      "\n",
      "                                                Name     Sex   Age  SibSp  \\\n",
      "0                            Braund, Mr. Owen Harris    male  22.0      1   \n",
      "1  Cumings, Mrs. John Bradley (Florence Briggs Th...  female  38.0      1   \n",
      "2                             Heikkinen, Miss. Laina  female  26.0      0   \n",
      "3       Futrelle, Mrs. Jacques Heath (Lily May Peel)  female  35.0      1   \n",
      "4                           Allen, Mr. William Henry    male  35.0      0   \n",
      "\n",
      "   Parch            Ticket     Fare Cabin Embarked  \n",
      "0      0         A/5 21171   7.2500   NaN        S  \n",
      "1      0          PC 17599  71.2833   C85        C  \n",
      "2      0  STON/O2. 3101282   7.9250   NaN        S  \n",
      "3      0            113803  53.1000  C123        S  \n",
      "4      0            373450   8.0500   NaN        S  \n"
     ]
    }
   ],
   "source": [
    "#use this to see data when needed\n",
    "#max rows = 1000 so i can see all data\n",
    "#May not be needed but I wanted to see what the data looks like\n",
    "pd.options.display.max_rows = 1000\n",
    "print titanic_data.head()"
   ]
  },
  {
   "cell_type": "code",
   "execution_count": 8,
   "metadata": {},
   "outputs": [
    {
     "name": "stdout",
     "output_type": "stream",
     "text": [
      "Populating the interactive namespace from numpy and matplotlib\n"
     ]
    }
   ],
   "source": [
    "#magic.....really. I learned this command will activate pylab (matplotlib, numpy and interactive support)\n",
    "#still trying to understand the importance of this but i think i need it.\n",
    "%pylab inline"
   ]
  },
  {
   "cell_type": "code",
   "execution_count": 14,
   "metadata": {},
   "outputs": [
    {
     "name": "stdout",
     "output_type": "stream",
     "text": [
      "PassengerId  Survived  Sex     Age \n",
      "1            0         male    22.0    0\n",
      "2            1         female  38.0    1\n",
      "3            1         female  26.0    1\n",
      "4            1         female  35.0    1\n",
      "5            0         male    35.0    0\n",
      "7            0         male    54.0    0\n",
      "8            0         male    2.0     0\n",
      "9            1         female  27.0    1\n",
      "10           1         female  14.0    1\n",
      "11           1         female  4.0     1\n",
      "12           1         female  58.0    1\n",
      "13           0         male    20.0    0\n",
      "14           0         male    39.0    0\n",
      "15           0         female  14.0    0\n",
      "16           1         female  55.0    1\n",
      "Name: Survived, dtype: int64\n"
     ]
    }
   ],
   "source": [
    "#look at subset of data.  For question 1 i care more about the Survived, Sex and Age fields\n",
    "titanic_subset=titanic_data.groupby(['PassengerId', 'Survived', 'Sex', 'Age'])\n",
    "print titanic_subset['Survived'].first().head(n=15)\n",
    "\n"
   ]
  },
  {
   "cell_type": "code",
   "execution_count": 25,
   "metadata": {},
   "outputs": [
    {
     "data": {
      "text/plain": [
       "PassengerId  Survived  Sex     Age \n",
       "1            0         male    22.0    22.0\n",
       "2            1         female  38.0    38.0\n",
       "3            1         female  26.0    26.0\n",
       "4            1         female  35.0    35.0\n",
       "5            0         male    35.0    35.0\n",
       "7            0         male    54.0    54.0\n",
       "8            0         male    2.0      2.0\n",
       "9            1         female  27.0    27.0\n",
       "10           1         female  14.0    14.0\n",
       "11           1         female  4.0      4.0\n",
       "Name: Age, dtype: float64"
      ]
     },
     "execution_count": 25,
     "metadata": {},
     "output_type": "execute_result"
    }
   ],
   "source": [
    "#not sure what i'm doing here.....\n",
    "titanic_subset['Age'].mean().head(n=10)"
   ]
  },
  {
   "cell_type": "code",
   "execution_count": 17,
   "metadata": {},
   "outputs": [
    {
     "name": "stdout",
     "output_type": "stream",
     "text": [
      "<pandas.core.groupby.SeriesGroupBy object at 0x0000000009E8EF28>\n"
     ]
    }
   ],
   "source": [
    "y=titanic_subset['Survived']\n",
    "print y"
   ]
  },
  {
   "cell_type": "code",
   "execution_count": 27,
   "metadata": {},
   "outputs": [
    {
     "data": {
      "text/html": [
       "<div>\n",
       "<style>\n",
       "    .dataframe thead tr:only-child th {\n",
       "        text-align: right;\n",
       "    }\n",
       "\n",
       "    .dataframe thead th {\n",
       "        text-align: left;\n",
       "    }\n",
       "\n",
       "    .dataframe tbody tr th {\n",
       "        vertical-align: top;\n",
       "    }\n",
       "</style>\n",
       "<table border=\"1\" class=\"dataframe\">\n",
       "  <thead>\n",
       "    <tr style=\"text-align: right;\">\n",
       "      <th></th>\n",
       "      <th>PassengerId</th>\n",
       "      <th>Survived</th>\n",
       "      <th>Age</th>\n",
       "    </tr>\n",
       "  </thead>\n",
       "  <tbody>\n",
       "    <tr>\n",
       "      <th>count</th>\n",
       "      <td>891.000000</td>\n",
       "      <td>891.000000</td>\n",
       "      <td>714.000000</td>\n",
       "    </tr>\n",
       "    <tr>\n",
       "      <th>mean</th>\n",
       "      <td>446.000000</td>\n",
       "      <td>0.383838</td>\n",
       "      <td>29.699118</td>\n",
       "    </tr>\n",
       "    <tr>\n",
       "      <th>std</th>\n",
       "      <td>257.353842</td>\n",
       "      <td>0.486592</td>\n",
       "      <td>14.526497</td>\n",
       "    </tr>\n",
       "    <tr>\n",
       "      <th>min</th>\n",
       "      <td>1.000000</td>\n",
       "      <td>0.000000</td>\n",
       "      <td>0.420000</td>\n",
       "    </tr>\n",
       "    <tr>\n",
       "      <th>25%</th>\n",
       "      <td>223.500000</td>\n",
       "      <td>0.000000</td>\n",
       "      <td>20.125000</td>\n",
       "    </tr>\n",
       "    <tr>\n",
       "      <th>50%</th>\n",
       "      <td>446.000000</td>\n",
       "      <td>0.000000</td>\n",
       "      <td>28.000000</td>\n",
       "    </tr>\n",
       "    <tr>\n",
       "      <th>75%</th>\n",
       "      <td>668.500000</td>\n",
       "      <td>1.000000</td>\n",
       "      <td>38.000000</td>\n",
       "    </tr>\n",
       "    <tr>\n",
       "      <th>max</th>\n",
       "      <td>891.000000</td>\n",
       "      <td>1.000000</td>\n",
       "      <td>80.000000</td>\n",
       "    </tr>\n",
       "  </tbody>\n",
       "</table>\n",
       "</div>"
      ],
      "text/plain": [
       "       PassengerId    Survived         Age\n",
       "count   891.000000  891.000000  714.000000\n",
       "mean    446.000000    0.383838   29.699118\n",
       "std     257.353842    0.486592   14.526497\n",
       "min       1.000000    0.000000    0.420000\n",
       "25%     223.500000    0.000000   20.125000\n",
       "50%     446.000000    0.000000   28.000000\n",
       "75%     668.500000    1.000000   38.000000\n",
       "max     891.000000    1.000000   80.000000"
      ]
     },
     "execution_count": 27,
     "metadata": {},
     "output_type": "execute_result"
    }
   ],
   "source": [
    "#The 4 fields i care about are PassengerID, Survived, Sex and Age for question #1\n",
    "#From this we can see 38.38% of the passengers survived\n",
    "\n",
    "titanic_data[['PassengerId', 'Survived', 'Sex', 'Age']].describe()\n",
    "\n",
    "\n",
    "\n"
   ]
  },
  {
   "cell_type": "code",
   "execution_count": 31,
   "metadata": {},
   "outputs": [
    {
     "data": {
      "text/html": [
       "<div>\n",
       "<style>\n",
       "    .dataframe thead tr:only-child th {\n",
       "        text-align: right;\n",
       "    }\n",
       "\n",
       "    .dataframe thead th {\n",
       "        text-align: left;\n",
       "    }\n",
       "\n",
       "    .dataframe tbody tr th {\n",
       "        vertical-align: top;\n",
       "    }\n",
       "</style>\n",
       "<table border=\"1\" class=\"dataframe\">\n",
       "  <thead>\n",
       "    <tr style=\"text-align: right;\">\n",
       "      <th></th>\n",
       "      <th>Sex</th>\n",
       "    </tr>\n",
       "  </thead>\n",
       "  <tbody>\n",
       "    <tr>\n",
       "      <th>count</th>\n",
       "      <td>891</td>\n",
       "    </tr>\n",
       "    <tr>\n",
       "      <th>unique</th>\n",
       "      <td>2</td>\n",
       "    </tr>\n",
       "    <tr>\n",
       "      <th>top</th>\n",
       "      <td>male</td>\n",
       "    </tr>\n",
       "    <tr>\n",
       "      <th>freq</th>\n",
       "      <td>577</td>\n",
       "    </tr>\n",
       "  </tbody>\n",
       "</table>\n",
       "</div>"
      ],
      "text/plain": [
       "         Sex\n",
       "count    891\n",
       "unique     2\n",
       "top     male\n",
       "freq     577"
      ]
     },
     "execution_count": 31,
     "metadata": {},
     "output_type": "execute_result"
    }
   ],
   "source": [
    "#now I want to know how many of each sex and from the following I learn that there were 577 males \n",
    "titanic_data[['Sex']].describe()\n",
    "\n"
   ]
  },
  {
   "cell_type": "code",
   "execution_count": 55,
   "metadata": {},
   "outputs": [
    {
     "data": {
      "text/plain": [
       "<matplotlib.text.Text at 0xa2fa898>"
      ]
     },
     "execution_count": 55,
     "metadata": {},
     "output_type": "execute_result"
    },
    {
     "data": {
      "image/png": "[encoded data removed]",
      "text/plain": [
       "<matplotlib.figure.Figure at 0xb6304e0>"
      ]
     },
     "metadata": {},
     "output_type": "display_data"
    }
   ],
   "source": [
    "#Graphically, the division by sex upon the launch looks like this\n",
    "titanic_data.groupby(['Sex'])[['PassengerId']].count().plot(kind='bar').set_ylabel('# Passengers')"
   ]
  },
  {
   "cell_type": "code",
   "execution_count": 96,
   "metadata": {},
   "outputs": [
    {
     "data": {
      "text/plain": [
       "Sex\n",
       "female    0.261504\n",
       "male      0.122334\n",
       "Name: Survived, dtype: float64"
      ]
     },
     "execution_count": 96,
     "metadata": {},
     "output_type": "execute_result"
    }
   ],
   "source": [
    "#I can tell that only 12.22% of the survivesrs were males surved and 26.15% of the survivors were females\n",
    "ratio=titanic_data.groupby(['Sex'])['Survived'].sum()/891\n",
    "ratio"
   ]
  },
  {
   "cell_type": "code",
   "execution_count": 82,
   "metadata": {},
   "outputs": [
    {
     "data": {
      "text/plain": [
       "Sex\n",
       "female    233\n",
       "male      109\n",
       "Name: Survived, dtype: int64"
      ]
     },
     "execution_count": 82,
     "metadata": {},
     "output_type": "execute_result"
    }
   ],
   "source": [
    "survivors=titanic_data.groupby(['Sex'])['Survived'].sum()\n",
    "survivors"
   ]
  },
  {
   "cell_type": "code",
   "execution_count": 100,
   "metadata": {},
   "outputs": [
    {
     "data": {
      "text/html": [
       "<div>\n",
       "<style>\n",
       "    .dataframe thead tr:only-child th {\n",
       "        text-align: right;\n",
       "    }\n",
       "\n",
       "    .dataframe thead th {\n",
       "        text-align: left;\n",
       "    }\n",
       "\n",
       "    .dataframe tbody tr th {\n",
       "        vertical-align: top;\n",
       "    }\n",
       "</style>\n",
       "<table border=\"1\" class=\"dataframe\">\n",
       "  <thead>\n",
       "    <tr style=\"text-align: right;\">\n",
       "      <th></th>\n",
       "      <th>PassengerId</th>\n",
       "      <th>Survived</th>\n",
       "      <th>Age</th>\n",
       "      <th>SibSp</th>\n",
       "      <th>Parch</th>\n",
       "      <th>Fare</th>\n",
       "    </tr>\n",
       "    <tr>\n",
       "      <th>Pclass</th>\n",
       "      <th></th>\n",
       "      <th></th>\n",
       "      <th></th>\n",
       "      <th></th>\n",
       "      <th></th>\n",
       "      <th></th>\n",
       "    </tr>\n",
       "  </thead>\n",
       "  <tbody>\n",
       "    <tr>\n",
       "      <th>1</th>\n",
       "      <td>99705</td>\n",
       "      <td>136</td>\n",
       "      <td>7111.42</td>\n",
       "      <td>90</td>\n",
       "      <td>77</td>\n",
       "      <td>18177.4125</td>\n",
       "    </tr>\n",
       "    <tr>\n",
       "      <th>2</th>\n",
       "      <td>82056</td>\n",
       "      <td>87</td>\n",
       "      <td>5168.83</td>\n",
       "      <td>74</td>\n",
       "      <td>70</td>\n",
       "      <td>3801.8417</td>\n",
       "    </tr>\n",
       "    <tr>\n",
       "      <th>3</th>\n",
       "      <td>215625</td>\n",
       "      <td>119</td>\n",
       "      <td>8924.92</td>\n",
       "      <td>302</td>\n",
       "      <td>193</td>\n",
       "      <td>6714.6951</td>\n",
       "    </tr>\n",
       "  </tbody>\n",
       "</table>\n",
       "</div>"
      ],
      "text/plain": [
       "        PassengerId  Survived      Age  SibSp  Parch        Fare\n",
       "Pclass                                                          \n",
       "1             99705       136  7111.42     90     77  18177.4125\n",
       "2             82056        87  5168.83     74     70   3801.8417\n",
       "3            215625       119  8924.92    302    193   6714.6951"
      ]
     },
     "execution_count": 100,
     "metadata": {},
     "output_type": "execute_result"
    }
   ],
   "source": [
    "#to look at question #2, i want to get a distribution by ticket price for both passengers at time of lauch and survived\n",
    "titanic_data.groupby(['Pclass']).sum()\n"
   ]
  },
  {
   "cell_type": "code",
   "execution_count": 99,
   "metadata": {},
   "outputs": [
    {
     "data": {
      "text/plain": [
       "Pclass\n",
       "1    136\n",
       "2     87\n",
       "3    119\n",
       "Name: Survived, dtype: int64"
      ]
     },
     "execution_count": 99,
     "metadata": {},
     "output_type": "execute_result"
    }
   ],
   "source": [
    "titanic_data.groupby(['Pclass'])['Survived'].sum()"
   ]
  },
  {
   "cell_type": "code",
   "execution_count": 59,
   "metadata": {},
   "outputs": [
    {
     "data": {
      "image/png": "[encoded data removed]",
      "text/plain": [
       "<matplotlib.figure.Figure at 0xcfba390>"
      ]
     },
     "metadata": {},
     "output_type": "display_data"
    }
   ],
   "source": [
    "\n",
    "#titanic_data.groupby(['Sex' ])[['Survived']].count().stack().plot(kind='bar').set_ylabel('Count')\n",
    "#graphically it looks like this.....\n",
    "#Even though we started with 577 males, there were over twice as many surviving females.\n",
    "df_sex_survived = titanic_data[(titanic_data.Survived)==1]\n",
    "df_sex_survived.groupby(['Sex'])[['Survived']].sum().plot(kind='bar').set_ylabel('# Survived by Sex')\n",
    "plt.show()"
   ]
  },
  {
   "cell_type": "code",
   "execution_count": 62,
   "metadata": {},
   "outputs": [
    {
     "data": {
      "text/html": [
       "<div>\n",
       "<style>\n",
       "    .dataframe thead tr:only-child th {\n",
       "        text-align: right;\n",
       "    }\n",
       "\n",
       "    .dataframe thead th {\n",
       "        text-align: left;\n",
       "    }\n",
       "\n",
       "    .dataframe tbody tr th {\n",
       "        vertical-align: top;\n",
       "    }\n",
       "</style>\n",
       "<table border=\"1\" class=\"dataframe\">\n",
       "  <thead>\n",
       "    <tr style=\"text-align: right;\">\n",
       "      <th></th>\n",
       "      <th>Age</th>\n",
       "    </tr>\n",
       "  </thead>\n",
       "  <tbody>\n",
       "    <tr>\n",
       "      <th>count</th>\n",
       "      <td>714.000000</td>\n",
       "    </tr>\n",
       "    <tr>\n",
       "      <th>mean</th>\n",
       "      <td>29.699118</td>\n",
       "    </tr>\n",
       "    <tr>\n",
       "      <th>std</th>\n",
       "      <td>14.526497</td>\n",
       "    </tr>\n",
       "    <tr>\n",
       "      <th>min</th>\n",
       "      <td>0.420000</td>\n",
       "    </tr>\n",
       "    <tr>\n",
       "      <th>25%</th>\n",
       "      <td>20.125000</td>\n",
       "    </tr>\n",
       "    <tr>\n",
       "      <th>50%</th>\n",
       "      <td>28.000000</td>\n",
       "    </tr>\n",
       "    <tr>\n",
       "      <th>75%</th>\n",
       "      <td>38.000000</td>\n",
       "    </tr>\n",
       "    <tr>\n",
       "      <th>max</th>\n",
       "      <td>80.000000</td>\n",
       "    </tr>\n",
       "  </tbody>\n",
       "</table>\n",
       "</div>"
      ],
      "text/plain": [
       "              Age\n",
       "count  714.000000\n",
       "mean    29.699118\n",
       "std     14.526497\n",
       "min      0.420000\n",
       "25%     20.125000\n",
       "50%     28.000000\n",
       "75%     38.000000\n",
       "max     80.000000"
      ]
     },
     "execution_count": 62,
     "metadata": {},
     "output_type": "execute_result"
    },
    {
     "data": {
      "image/png": "[encoded data removed]",
      "text/plain": [
       "<matplotlib.figure.Figure at 0xd1631d0>"
      ]
     },
     "metadata": {},
     "output_type": "display_data"
    }
   ],
   "source": [
    "#here's a histogram of the age of the passengers\n",
    "ax = titanic_data['Age'].hist()\n",
    "ax.set_ylabel('# of Passengers')\n",
    "ax.set_xlabel('Age')\n",
    "ax.set_title('Age distribution of Passengers at time of boarding')\n",
    "pd.DataFrame(titanic_data['Age'].describe())\n"
   ]
  },
  {
   "cell_type": "code",
   "execution_count": 78,
   "metadata": {},
   "outputs": [
    {
     "data": {
      "text/html": [
       "<div>\n",
       "<style>\n",
       "    .dataframe thead tr:only-child th {\n",
       "        text-align: right;\n",
       "    }\n",
       "\n",
       "    .dataframe thead th {\n",
       "        text-align: left;\n",
       "    }\n",
       "\n",
       "    .dataframe tbody tr th {\n",
       "        vertical-align: top;\n",
       "    }\n",
       "</style>\n",
       "<table border=\"1\" class=\"dataframe\">\n",
       "  <thead>\n",
       "    <tr style=\"text-align: right;\">\n",
       "      <th></th>\n",
       "      <th>Age</th>\n",
       "    </tr>\n",
       "  </thead>\n",
       "  <tbody>\n",
       "    <tr>\n",
       "      <th>count</th>\n",
       "      <td>290.000000</td>\n",
       "    </tr>\n",
       "    <tr>\n",
       "      <th>mean</th>\n",
       "      <td>28.343690</td>\n",
       "    </tr>\n",
       "    <tr>\n",
       "      <th>std</th>\n",
       "      <td>14.950952</td>\n",
       "    </tr>\n",
       "    <tr>\n",
       "      <th>min</th>\n",
       "      <td>0.420000</td>\n",
       "    </tr>\n",
       "    <tr>\n",
       "      <th>25%</th>\n",
       "      <td>19.000000</td>\n",
       "    </tr>\n",
       "    <tr>\n",
       "      <th>50%</th>\n",
       "      <td>28.000000</td>\n",
       "    </tr>\n",
       "    <tr>\n",
       "      <th>75%</th>\n",
       "      <td>36.000000</td>\n",
       "    </tr>\n",
       "    <tr>\n",
       "      <th>max</th>\n",
       "      <td>80.000000</td>\n",
       "    </tr>\n",
       "  </tbody>\n",
       "</table>\n",
       "</div>"
      ],
      "text/plain": [
       "              Age\n",
       "count  290.000000\n",
       "mean    28.343690\n",
       "std     14.950952\n",
       "min      0.420000\n",
       "25%     19.000000\n",
       "50%     28.000000\n",
       "75%     36.000000\n",
       "max     80.000000"
      ]
     },
     "execution_count": 78,
     "metadata": {},
     "output_type": "execute_result"
    },
    {
     "data": {
      "image/png": "[encoded data removed]",
      "text/plain": [
       "<matplotlib.figure.Figure at 0xe07e8d0>"
      ]
     },
     "metadata": {},
     "output_type": "display_data"
    }
   ],
   "source": [
    "#here's a histogram of the age of the passengers\n",
    "#clearly there was a concerted effort to protect the young\n",
    "\n",
    "df_sex_survived = titanic_data[(titanic_data.Survived)==1]\n",
    "ax = df_sex_survived['Age'].hist()\n",
    "ax.set_ylabel('# of Passengers')\n",
    "ax.set_xlabel('Age')\n",
    "ax.set_title('Age distribution of Passengers at time of boarding')\n",
    "pd.DataFrame(df_sex_survived['Age'].describe())\n"
   ]
  },
  {
   "cell_type": "code",
   "execution_count": null,
   "metadata": {
    "collapsed": true
   },
   "outputs": [],
   "source": [
    "#In general, in response to Q#1 womean and children had higher survivability ratios"
   ]
  },
  {
   "cell_type": "code",
   "execution_count": null,
   "metadata": {
    "collapsed": true
   },
   "outputs": [],
   "source": []
  },
  {
   "cell_type": "code",
   "execution_count": 36,
   "metadata": {},
   "outputs": [
    {
     "data": {
      "image/png": "[encoded data removed]",
      "text/plain": [
       "<matplotlib.figure.Figure at 0xaf11978>"
      ]
     },
     "metadata": {},
     "output_type": "display_data"
    }
   ],
   "source": [
    "df_age_survived = titanic_data[(titanic_data.Survived)==1].copy()\n",
    "df_age_survived.groupby(['Age'])[['Survived']].count().unstack().plot(kind='bar').set_ylabel('Count')\n",
    "plt.show()"
   ]
  },
  {
   "cell_type": "code",
   "execution_count": null,
   "metadata": {},
   "outputs": [],
   "source": [
    "\n"
   ]
  },
  {
   "cell_type": "code",
   "execution_count": 60,
   "metadata": {},
   "outputs": [
    {
     "data": {
      "text/plain": [
       "<matplotlib.text.Text at 0xd39f048>"
      ]
     },
     "execution_count": 60,
     "metadata": {},
     "output_type": "execute_result"
    },
    {
     "data": {
      "image/png": "[encoded data removed]",
      "text/plain": [
       "<matplotlib.figure.Figure at 0xd163cc0>"
      ]
     },
     "metadata": {},
     "output_type": "display_data"
    }
   ],
   "source": [
    "titanic_data.groupby(['Sex'])[['Survived']].count().plot(kind='bar').set_ylabel('Count')"
   ]
  },
  {
   "cell_type": "code",
   "execution_count": null,
   "metadata": {},
   "outputs": [],
   "source": []
  },
  {
   "cell_type": "code",
   "execution_count": 105,
   "metadata": {},
   "outputs": [
    {
     "data": {
      "text/html": [
       "<div>\n",
       "<style>\n",
       "    .dataframe thead tr:only-child th {\n",
       "        text-align: right;\n",
       "    }\n",
       "\n",
       "    .dataframe thead th {\n",
       "        text-align: left;\n",
       "    }\n",
       "\n",
       "    .dataframe tbody tr th {\n",
       "        vertical-align: top;\n",
       "    }\n",
       "</style>\n",
       "<table border=\"1\" class=\"dataframe\">\n",
       "  <thead>\n",
       "    <tr style=\"text-align: right;\">\n",
       "      <th></th>\n",
       "      <th>Age</th>\n",
       "    </tr>\n",
       "  </thead>\n",
       "  <tbody>\n",
       "    <tr>\n",
       "      <th>count</th>\n",
       "      <td>714.000000</td>\n",
       "    </tr>\n",
       "    <tr>\n",
       "      <th>mean</th>\n",
       "      <td>29.699118</td>\n",
       "    </tr>\n",
       "    <tr>\n",
       "      <th>std</th>\n",
       "      <td>14.526497</td>\n",
       "    </tr>\n",
       "    <tr>\n",
       "      <th>min</th>\n",
       "      <td>0.420000</td>\n",
       "    </tr>\n",
       "    <tr>\n",
       "      <th>25%</th>\n",
       "      <td>20.125000</td>\n",
       "    </tr>\n",
       "    <tr>\n",
       "      <th>50%</th>\n",
       "      <td>28.000000</td>\n",
       "    </tr>\n",
       "    <tr>\n",
       "      <th>75%</th>\n",
       "      <td>38.000000</td>\n",
       "    </tr>\n",
       "    <tr>\n",
       "      <th>max</th>\n",
       "      <td>80.000000</td>\n",
       "    </tr>\n",
       "  </tbody>\n",
       "</table>\n",
       "</div>"
      ],
      "text/plain": [
       "              Age\n",
       "count  714.000000\n",
       "mean    29.699118\n",
       "std     14.526497\n",
       "min      0.420000\n",
       "25%     20.125000\n",
       "50%     28.000000\n",
       "75%     38.000000\n",
       "max     80.000000"
      ]
     },
     "execution_count": 105,
     "metadata": {},
     "output_type": "execute_result"
    },
    {
     "data": {
      "image/png": "[encoded data removed]",
      "text/plain": [
       "<matplotlib.figure.Figure at 0xae49ef0>"
      ]
     },
     "metadata": {},
     "output_type": "display_data"
    }
   ],
   "source": [
    "ax = titanic_data['Age'].hist()\n",
    "ax.set_ylabel('Number of Passengers')\n",
    "ax.set_xlabel('Age')\n",
    "ax.set_title('Example')\n",
    "pd.DataFrame(titanic_data['Age'].describe())\n"
   ]
  },
  {
   "cell_type": "code",
   "execution_count": 107,
   "metadata": {
    "collapsed": true
   },
   "outputs": [],
   "source": [
    "\n",
    "titanic_data['Age_categories'] = pd.cut(titanic_data['Age'], bins=[0,18,49,90], labels=[\"Child\",\"Adult\",\"Senior\"])\n"
   ]
  },
  {
   "cell_type": "code",
   "execution_count": 108,
   "metadata": {},
   "outputs": [
    {
     "data": {
      "text/plain": [
       "<matplotlib.axes._subplots.AxesSubplot at 0xb0668d0>"
      ]
     },
     "execution_count": 108,
     "metadata": {},
     "output_type": "execute_result"
    },
    {
     "data": {
      "image/png": "[encoded data removed]",
      "text/plain": [
       "<matplotlib.figure.Figure at 0xaeb53c8>"
      ]
     },
     "metadata": {},
     "output_type": "display_data"
    }
   ],
   "source": [
    "titanic_data.groupby(['Age_categories'])[['Survived']].mean().unstack().plot(kind='bar')"
   ]
  },
  {
   "cell_type": "code",
   "execution_count": 97,
   "metadata": {},
   "outputs": [
    {
     "data": {
      "text/plain": [
       "Sex\n",
       "female    314\n",
       "male      577\n",
       "Name: Survived, dtype: int64"
      ]
     },
     "execution_count": 97,
     "metadata": {},
     "output_type": "execute_result"
    }
   ],
   "source": [
    "titanic_data.groupby(['Sex'])['Survived'].count()"
   ]
  },
  {
   "cell_type": "code",
   "execution_count": 51,
   "metadata": {},
   "outputs": [
    {
     "ename": "AttributeError",
     "evalue": "Cannot access callable attribute 'sort_values' of 'DataFrameGroupBy' objects, try using the 'apply' method",
     "output_type": "error",
     "traceback": [
      "\u001b[1;31m---------------------------------------------------------------------------\u001b[0m",
      "\u001b[1;31mAttributeError\u001b[0m                            Traceback (most recent call last)",
      "\u001b[1;32m<ipython-input-51-594b8fa88399>\u001b[0m in \u001b[0;36m<module>\u001b[1;34m()\u001b[0m\n\u001b[1;32m----> 1\u001b[1;33m \u001b[0mx\u001b[0m\u001b[1;33m.\u001b[0m\u001b[0msort_values\u001b[0m\u001b[1;33m(\u001b[0m\u001b[1;33m)\u001b[0m\u001b[1;33m\u001b[0m\u001b[0m\n\u001b[0m",
      "\u001b[1;32mC:\\Users\\Ken\\Anaconda2\\lib\\site-packages\\pandas\\core\\groupby.pyc\u001b[0m in \u001b[0;36m__getattr__\u001b[1;34m(self, attr)\u001b[0m\n\u001b[0;32m    546\u001b[0m             \u001b[1;32mreturn\u001b[0m \u001b[0mself\u001b[0m\u001b[1;33m[\u001b[0m\u001b[0mattr\u001b[0m\u001b[1;33m]\u001b[0m\u001b[1;33m\u001b[0m\u001b[0m\n\u001b[0;32m    547\u001b[0m         \u001b[1;32mif\u001b[0m \u001b[0mhasattr\u001b[0m\u001b[1;33m(\u001b[0m\u001b[0mself\u001b[0m\u001b[1;33m.\u001b[0m\u001b[0mobj\u001b[0m\u001b[1;33m,\u001b[0m \u001b[0mattr\u001b[0m\u001b[1;33m)\u001b[0m\u001b[1;33m:\u001b[0m\u001b[1;33m\u001b[0m\u001b[0m\n\u001b[1;32m--> 548\u001b[1;33m             \u001b[1;32mreturn\u001b[0m \u001b[0mself\u001b[0m\u001b[1;33m.\u001b[0m\u001b[0m_make_wrapper\u001b[0m\u001b[1;33m(\u001b[0m\u001b[0mattr\u001b[0m\u001b[1;33m)\u001b[0m\u001b[1;33m\u001b[0m\u001b[0m\n\u001b[0m\u001b[0;32m    549\u001b[0m \u001b[1;33m\u001b[0m\u001b[0m\n\u001b[0;32m    550\u001b[0m         raise AttributeError(\"%r object has no attribute %r\" %\n",
      "\u001b[1;32mC:\\Users\\Ken\\Anaconda2\\lib\\site-packages\\pandas\\core\\groupby.pyc\u001b[0m in \u001b[0;36m_make_wrapper\u001b[1;34m(self, name)\u001b[0m\n\u001b[0;32m    560\u001b[0m                    \"using the 'apply' method\".format(kind, name,\n\u001b[0;32m    561\u001b[0m                                                      type(self).__name__))\n\u001b[1;32m--> 562\u001b[1;33m             \u001b[1;32mraise\u001b[0m \u001b[0mAttributeError\u001b[0m\u001b[1;33m(\u001b[0m\u001b[0mmsg\u001b[0m\u001b[1;33m)\u001b[0m\u001b[1;33m\u001b[0m\u001b[0m\n\u001b[0m\u001b[0;32m    563\u001b[0m \u001b[1;33m\u001b[0m\u001b[0m\n\u001b[0;32m    564\u001b[0m         \u001b[1;31m# need to setup the selection\u001b[0m\u001b[1;33m\u001b[0m\u001b[1;33m\u001b[0m\u001b[0m\n",
      "\u001b[1;31mAttributeError\u001b[0m: Cannot access callable attribute 'sort_values' of 'DataFrameGroupBy' objects, try using the 'apply' method"
     ]
    }
   ],
   "source": [
    "x.sort_values()"
   ]
  },
  {
   "cell_type": "code",
   "execution_count": 48,
   "metadata": {
    "collapsed": true
   },
   "outputs": [],
   "source": [
    "y=x.groups\n",
    "#y.sort(['Survived', 'Sex'], ascending=[True, False])\n",
    "z=sorted(y)"
   ]
  },
  {
   "cell_type": "code",
   "execution_count": 67,
   "metadata": {},
   "outputs": [
    {
     "name": "stdout",
     "output_type": "stream",
     "text": [
      "[(1L, 0L, 'male', 22.0), (5L, 0L, 'male', 35.0), (6L, 0L, 'male', nan), (7L, 0L, 'male', 54.0), (8L, 0L, 'male', 2.0), (13L, 0L, 'male', 20.0), (14L, 0L, 'male', 39.0), (15L, 0L, 'female', 14.0), (17L, 0L, 'male', 2.0), (19L, 0L, 'female', 31.0), (21L, 0L, 'male', 35.0), (25L, 0L, 'female', 8.0), (27L, 0L, 'male', nan), (28L, 0L, 'male', 19.0), (30L, 0L, 'male', nan), (31L, 0L, 'male', 40.0), (34L, 0L, 'male', 66.0), (35L, 0L, 'male', 28.0), (36L, 0L, 'male', 42.0), (38L, 0L, 'male', 21.0), (39L, 0L, 'female', 18.0), (41L, 0L, 'female', 40.0), (42L, 0L, 'female', 27.0), (43L, 0L, 'male', nan), (46L, 0L, 'male', nan), (47L, 0L, 'male', nan), (49L, 0L, 'male', nan), (50L, 0L, 'female', 18.0), (51L, 0L, 'male', 7.0), (52L, 0L, 'male', 21.0), (55L, 0L, 'male', 65.0), (58L, 0L, 'male', 28.5), (60L, 0L, 'male', 11.0), (61L, 0L, 'male', 22.0), (63L, 0L, 'male', 45.0), (64L, 0L, 'male', 4.0), (65L, 0L, 'male', nan), (68L, 0L, 'male', 19.0), (70L, 0L, 'male', 26.0), (71L, 0L, 'male', 32.0), (72L, 0L, 'female', 16.0), (73L, 0L, 'male', 21.0), (74L, 0L, 'male', 26.0), (76L, 0L, 'male', 25.0), (77L, 0L, 'male', nan), (78L, 0L, 'male', nan), (81L, 0L, 'male', 22.0), (84L, 0L, 'male', 28.0), (87L, 0L, 'male', 16.0), (88L, 0L, 'male', nan), (90L, 0L, 'male', 24.0), (91L, 0L, 'male', 29.0), (92L, 0L, 'male', 20.0), (93L, 0L, 'male', 46.0), (94L, 0L, 'male', 26.0), (95L, 0L, 'male', 59.0), (96L, 0L, 'male', nan), (97L, 0L, 'male', 71.0), (100L, 0L, 'male', 34.0), (101L, 0L, 'female', 28.0), (102L, 0L, 'male', nan), (103L, 0L, 'male', 21.0), (104L, 0L, 'male', 33.0), (105L, 0L, 'male', 37.0), (106L, 0L, 'male', 28.0), (109L, 0L, 'male', 38.0), (111L, 0L, 'male', 47.0), (112L, 0L, 'female', 14.5), (113L, 0L, 'male', 22.0), (114L, 0L, 'female', 20.0), (115L, 0L, 'female', 17.0), (116L, 0L, 'male', 21.0), (117L, 0L, 'male', 70.5), (118L, 0L, 'male', 29.0), (119L, 0L, 'male', 24.0), (120L, 0L, 'female', 2.0), (121L, 0L, 'male', 21.0), (122L, 0L, 'male', nan), (123L, 0L, 'male', 32.5), (125L, 0L, 'male', 54.0), (127L, 0L, 'male', nan), (130L, 0L, 'male', 45.0), (131L, 0L, 'male', 33.0), (132L, 0L, 'male', 20.0), (133L, 0L, 'female', 47.0), (135L, 0L, 'male', 25.0), (136L, 0L, 'male', 23.0), (138L, 0L, 'male', 37.0), (139L, 0L, 'male', 16.0), (140L, 0L, 'male', 24.0), (141L, 0L, 'female', nan), (144L, 0L, 'male', 19.0), (145L, 0L, 'male', 18.0), (146L, 0L, 'male', 19.0), (148L, 0L, 'female', 9.0), (149L, 0L, 'male', 36.5), (150L, 0L, 'male', 42.0), (151L, 0L, 'male', 51.0), (153L, 0L, 'male', 55.5), (154L, 0L, 'male', 40.5), (155L, 0L, 'male', nan), (156L, 0L, 'male', 51.0), (158L, 0L, 'male', 30.0), (159L, 0L, 'male', nan), (160L, 0L, 'male', nan), (161L, 0L, 'male', 44.0), (163L, 0L, 'male', 26.0), (164L, 0L, 'male', 17.0), (165L, 0L, 'male', 1.0), (168L, 0L, 'female', 45.0), (169L, 0L, 'male', nan), (170L, 0L, 'male', 28.0), (171L, 0L, 'male', 61.0), (172L, 0L, 'male', 4.0), (174L, 0L, 'male', 21.0), (175L, 0L, 'male', 56.0), (176L, 0L, 'male', 18.0), (177L, 0L, 'male', nan), (178L, 0L, 'female', 50.0), (179L, 0L, 'male', 30.0), (180L, 0L, 'male', 36.0), (181L, 0L, 'female', nan), (182L, 0L, 'male', nan), (183L, 0L, 'male', 9.0), (186L, 0L, 'male', nan), (189L, 0L, 'male', 40.0), (190L, 0L, 'male', 36.0), (192L, 0L, 'male', 19.0), (197L, 0L, 'male', nan), (198L, 0L, 'male', 42.0), (200L, 0L, 'female', 24.0), (201L, 0L, 'male', 28.0), (202L, 0L, 'male', nan), (203L, 0L, 'male', 34.0), (204L, 0L, 'male', 45.5), (206L, 0L, 'female', 2.0), (207L, 0L, 'male', 32.0), (211L, 0L, 'male', 24.0), (213L, 0L, 'male', 22.0), (214L, 0L, 'male', 30.0), (215L, 0L, 'male', nan), (218L, 0L, 'male', 42.0), (220L, 0L, 'male', 30.0), (222L, 0L, 'male', 27.0), (223L, 0L, 'male', 51.0), (224L, 0L, 'male', nan), (226L, 0L, 'male', 22.0), (228L, 0L, 'male', 20.5), (229L, 0L, 'male', 18.0), (230L, 0L, 'female', nan), (232L, 0L, 'male', 29.0), (233L, 0L, 'male', 59.0), (235L, 0L, 'male', 24.0), (236L, 0L, 'female', nan), (237L, 0L, 'male', 44.0), (239L, 0L, 'male', 19.0), (240L, 0L, 'male', 33.0), (241L, 0L, 'female', nan), (243L, 0L, 'male', 29.0), (244L, 0L, 'male', 22.0), (245L, 0L, 'male', 30.0), (246L, 0L, 'male', 44.0), (247L, 0L, 'female', 25.0), (250L, 0L, 'male', 54.0), (251L, 0L, 'male', nan), (252L, 0L, 'female', 29.0), (253L, 0L, 'male', 62.0), (254L, 0L, 'male', 30.0), (255L, 0L, 'female', 41.0), (261L, 0L, 'male', nan), (263L, 0L, 'male', 52.0), (264L, 0L, 'male', 40.0), (265L, 0L, 'female', nan), (266L, 0L, 'male', 36.0), (267L, 0L, 'male', 16.0), (271L, 0L, 'male', nan), (274L, 0L, 'male', 37.0), (277L, 0L, 'female', 45.0), (278L, 0L, 'male', nan), (279L, 0L, 'male', 7.0), (281L, 0L, 'male', 65.0), (282L, 0L, 'male', 28.0), (283L, 0L, 'male', 16.0), (285L, 0L, 'male', nan), (286L, 0L, 'male', 33.0), (288L, 0L, 'male', 22.0), (293L, 0L, 'male', 36.0), (294L, 0L, 'female', 24.0), (295L, 0L, 'male', 24.0), (296L, 0L, 'male', nan), (297L, 0L, 'male', 23.5), (298L, 0L, 'female', 2.0), (303L, 0L, 'male', 19.0), (305L, 0L, 'male', nan), (309L, 0L, 'male', 30.0), (313L, 0L, 'female', 26.0), (314L, 0L, 'male', 28.0), (315L, 0L, 'male', 43.0), (318L, 0L, 'male', 54.0), (321L, 0L, 'male', 22.0), (322L, 0L, 'male', 27.0), (325L, 0L, 'male', nan), (327L, 0L, 'male', 61.0), (332L, 0L, 'male', 45.5), (333L, 0L, 'male', 38.0), (334L, 0L, 'male', 16.0), (336L, 0L, 'male', nan), (337L, 0L, 'male', 29.0), (340L, 0L, 'male', 45.0), (343L, 0L, 'male', 28.0), (344L, 0L, 'male', 25.0), (345L, 0L, 'male', 36.0), (350L, 0L, 'male', 42.0), (351L, 0L, 'male', 23.0), (352L, 0L, 'male', nan), (353L, 0L, 'male', 15.0), (354L, 0L, 'male', 25.0), (355L, 0L, 'male', nan), (356L, 0L, 'male', 28.0), (358L, 0L, 'female', 38.0), (361L, 0L, 'male', 40.0), (362L, 0L, 'male', 29.0), (363L, 0L, 'female', 45.0), (364L, 0L, 'male', 35.0), (365L, 0L, 'male', nan), (366L, 0L, 'male', 30.0), (372L, 0L, 'male', 18.0), (373L, 0L, 'male', 19.0), (374L, 0L, 'male', 22.0), (375L, 0L, 'female', 3.0), (378L, 0L, 'male', 27.0), (379L, 0L, 'male', 20.0), (380L, 0L, 'male', 19.0), (383L, 0L, 'male', 32.0), (385L, 0L, 'male', nan), (386L, 0L, 'male', 18.0), (387L, 0L, 'male', 1.0), (389L, 0L, 'male', nan), (393L, 0L, 'male', 28.0), (396L, 0L, 'male', 22.0), (397L, 0L, 'female', 31.0), (398L, 0L, 'male', 46.0), (399L, 0L, 'male', 23.0), (402L, 0L, 'male', 26.0), (403L, 0L, 'female', 21.0), (404L, 0L, 'male', 28.0), (405L, 0L, 'female', 20.0), (406L, 0L, 'male', 34.0), (407L, 0L, 'male', 51.0), (409L, 0L, 'male', 21.0), (410L, 0L, 'female', nan), (411L, 0L, 'male', nan), (412L, 0L, 'male', nan), (414L, 0L, 'male', nan), (416L, 0L, 'female', nan), (419L, 0L, 'male', 30.0), (420L, 0L, 'female', 10.0), (421L, 0L, 'male', nan), (422L, 0L, 'male', 21.0), (423L, 0L, 'male', 29.0), (424L, 0L, 'female', 28.0), (425L, 0L, 'male', 18.0), (426L, 0L, 'male', nan), (429L, 0L, 'male', nan), (434L, 0L, 'male', 17.0), (435L, 0L, 'male', 50.0), (437L, 0L, 'female', 21.0), (439L, 0L, 'male', 64.0), (440L, 0L, 'male', 31.0), (442L, 0L, 'male', 20.0), (443L, 0L, 'male', 25.0), (451L, 0L, 'male', 36.0), (452L, 0L, 'male', nan), (453L, 0L, 'male', 30.0), (455L, 0L, 'male', nan), (457L, 0L, 'male', 65.0), (460L, 0L, 'male', nan), (462L, 0L, 'male', 34.0), (463L, 0L, 'male', 47.0), (464L, 0L, 'male', 48.0), (465L, 0L, 'male', nan), (466L, 0L, 'male', 38.0), (467L, 0L, 'male', nan), (468L, 0L, 'male', 56.0), (469L, 0L, 'male', nan), (471L, 0L, 'male', nan), (472L, 0L, 'male', 38.0), (475L, 0L, 'female', 22.0), (476L, 0L, 'male', nan), (477L, 0L, 'male', 34.0), (478L, 0L, 'male', 29.0), (479L, 0L, 'male', 22.0), (481L, 0L, 'male', 9.0), (482L, 0L, 'male', nan), (483L, 0L, 'male', 50.0), (486L, 0L, 'female', nan), (488L, 0L, 'male', 58.0), (489L, 0L, 'male', 30.0), (491L, 0L, 'male', nan), (492L, 0L, 'male', 21.0), (493L, 0L, 'male', 55.0), (494L, 0L, 'male', 71.0), (495L, 0L, 'male', 21.0), (496L, 0L, 'male', nan), (498L, 0L, 'male', nan), (499L, 0L, 'female', 25.0), (500L, 0L, 'male', 24.0), (501L, 0L, 'male', 17.0), (502L, 0L, 'female', 21.0), (503L, 0L, 'female', nan), (504L, 0L, 'female', 37.0), (506L, 0L, 'male', 18.0), (509L, 0L, 'male', 28.0), (512L, 0L, 'male', nan), (515L, 0L, 'male', 24.0), (516L, 0L, 'male', 47.0), (518L, 0L, 'male', nan), (520L, 0L, 'male', 32.0), (522L, 0L, 'male', 22.0), (523L, 0L, 'male', nan), (525L, 0L, 'male', nan), (526L, 0L, 'male', 40.5), (528L, 0L, 'male', nan), (529L, 0L, 'male', 39.0), (530L, 0L, 'male', 23.0), (532L, 0L, 'male', nan), (533L, 0L, 'male', 17.0), (535L, 0L, 'female', 30.0), (537L, 0L, 'male', 45.0), (539L, 0L, 'male', nan), (542L, 0L, 'female', 9.0), (543L, 0L, 'female', 11.0), (545L, 0L, 'male', 50.0), (546L, 0L, 'male', 64.0), (549L, 0L, 'male', 33.0), (552L, 0L, 'male', 27.0), (553L, 0L, 'male', nan), (556L, 0L, 'male', 62.0), (558L, 0L, 'male', nan), (561L, 0L, 'male', nan), (562L, 0L, 'male', 40.0), (563L, 0L, 'male', 28.0), (564L, 0L, 'male', nan), (565L, 0L, 'female', nan), (566L, 0L, 'male', 24.0), (567L, 0L, 'male', 19.0), (568L, 0L, 'female', 29.0), (569L, 0L, 'male', nan), (575L, 0L, 'male', 16.0), (576L, 0L, 'male', 19.0), (579L, 0L, 'female', nan), (583L, 0L, 'male', 54.0), (584L, 0L, 'male', 36.0), (585L, 0L, 'male', nan), (587L, 0L, 'male', 47.0), (589L, 0L, 'male', 22.0), (590L, 0L, 'male', nan), (591L, 0L, 'male', 35.0), (593L, 0L, 'male', 47.0), (594L, 0L, 'female', nan), (595L, 0L, 'male', 37.0), (596L, 0L, 'male', 36.0), (598L, 0L, 'male', 49.0), (599L, 0L, 'male', nan), (602L, 0L, 'male', nan), (603L, 0L, 'male', nan), (604L, 0L, 'male', 44.0), (606L, 0L, 'male', 36.0), (607L, 0L, 'male', 30.0), (611L, 0L, 'female', 39.0), (612L, 0L, 'male', nan), (614L, 0L, 'male', nan), (615L, 0L, 'male', 35.0), (617L, 0L, 'male', 34.0), (618L, 0L, 'female', 26.0), (620L, 0L, 'male', 26.0), (621L, 0L, 'male', 27.0), (624L, 0L, 'male', 21.0), (625L, 0L, 'male', 21.0), (626L, 0L, 'male', 61.0), (627L, 0L, 'male', 57.0), (629L, 0L, 'male', 26.0), (630L, 0L, 'male', nan), (632L, 0L, 'male', 51.0), (634L, 0L, 'male', nan), (635L, 0L, 'female', 9.0), (637L, 0L, 'male', 32.0), (638L, 0L, 'male', 31.0), (639L, 0L, 'female', 41.0), (640L, 0L, 'male', nan), (641L, 0L, 'male', 20.0), (643L, 0L, 'female', 2.0), (647L, 0L, 'male', 19.0), (649L, 0L, 'male', nan), (651L, 0L, 'male', nan), (653L, 0L, 'male', 21.0), (655L, 0L, 'female', 18.0), (656L, 0L, 'male', 24.0), (657L, 0L, 'male', nan), (658L, 0L, 'female', 32.0), (659L, 0L, 'male', 23.0), (660L, 0L, 'male', 58.0), (662L, 0L, 'male', 40.0), (663L, 0L, 'male', 47.0), (664L, 0L, 'male', 36.0), (666L, 0L, 'male', 32.0), (667L, 0L, 'male', 25.0), (668L, 0L, 'male', nan), (669L, 0L, 'male', 43.0), (672L, 0L, 'male', 31.0), (673L, 0L, 'male', 70.0), (675L, 0L, 'male', nan), (676L, 0L, 'male', 18.0), (677L, 0L, 'male', 24.5), (679L, 0L, 'female', 43.0), (681L, 0L, 'female', nan), (683L, 0L, 'male', 20.0), (684L, 0L, 'male', 14.0), (685L, 0L, 'male', 60.0), (686L, 0L, 'male', 25.0), (687L, 0L, 'male', 14.0), (688L, 0L, 'male', 19.0), (689L, 0L, 'male', 18.0), (694L, 0L, 'male', 25.0), (695L, 0L, 'male', 60.0), (696L, 0L, 'male', 52.0), (697L, 0L, 'male', 44.0), (699L, 0L, 'male', 49.0), (700L, 0L, 'male', 42.0), (703L, 0L, 'female', 18.0), (704L, 0L, 'male', 25.0), (705L, 0L, 'male', 26.0), (706L, 0L, 'male', 39.0), (712L, 0L, 'male', nan), (714L, 0L, 'male', 29.0), (715L, 0L, 'male', 52.0), (716L, 0L, 'male', 19.0), (719L, 0L, 'male', nan), (720L, 0L, 'male', 33.0), (722L, 0L, 'male', 17.0), (723L, 0L, 'male', 34.0), (724L, 0L, 'male', 50.0), (726L, 0L, 'male', 20.0), (729L, 0L, 'male', 25.0), (730L, 0L, 'female', 25.0), (732L, 0L, 'male', 11.0), (733L, 0L, 'male', nan), (734L, 0L, 'male', 23.0), (735L, 0L, 'male', 23.0), (736L, 0L, 'male', 28.5), (737L, 0L, 'female', 48.0), (739L, 0L, 'male', nan), (740L, 0L, 'male', nan), (742L, 0L, 'male', 36.0), (744L, 0L, 'male', 24.0), (746L, 0L, 'male', 70.0), (747L, 0L, 'male', 16.0), (749L, 0L, 'male', 19.0), (750L, 0L, 'male', 31.0), (753L, 0L, 'male', 33.0), (754L, 0L, 'male', 23.0), (757L, 0L, 'male', 28.0), (758L, 0L, 'male', 18.0), (759L, 0L, 'male', 34.0), (761L, 0L, 'male', nan), (762L, 0L, 'male', 41.0), (765L, 0L, 'male', 16.0), (767L, 0L, 'male', nan), (768L, 0L, 'female', 30.5), (769L, 0L, 'male', nan), (770L, 0L, 'male', 32.0), (771L, 0L, 'male', 24.0), (772L, 0L, 'male', 48.0), (773L, 0L, 'female', 57.0), (774L, 0L, 'male', nan), (776L, 0L, 'male', 18.0), (777L, 0L, 'male', nan), (779L, 0L, 'male', nan), (783L, 0L, 'male', 29.0), (784L, 0L, 'male', nan), (785L, 0L, 'male', 25.0), (786L, 0L, 'male', 25.0), (788L, 0L, 'male', 8.0), (790L, 0L, 'male', 46.0), (791L, 0L, 'male', nan), (792L, 0L, 'male', 16.0), (793L, 0L, 'female', nan), (794L, 0L, 'male', nan), (795L, 0L, 'male', 25.0), (796L, 0L, 'male', 39.0), (799L, 0L, 'male', 30.0), (800L, 0L, 'female', 30.0), (801L, 0L, 'male', 34.0), (806L, 0L, 'male', 31.0), (807L, 0L, 'male', 39.0), (808L, 0L, 'female', 18.0), (809L, 0L, 'male', 39.0), (811L, 0L, 'male', 26.0), (812L, 0L, 'male', 39.0), (813L, 0L, 'male', 35.0), (814L, 0L, 'female', 6.0), (815L, 0L, 'male', 30.5), (816L, 0L, 'male', nan), (817L, 0L, 'female', 23.0), (818L, 0L, 'male', 31.0), (819L, 0L, 'male', 43.0), (820L, 0L, 'male', 10.0), (823L, 0L, 'male', 38.0), (825L, 0L, 'male', 2.0), (826L, 0L, 'male', nan), (827L, 0L, 'male', nan), (833L, 0L, 'male', nan), (834L, 0L, 'male', 23.0), (835L, 0L, 'male', 18.0), (837L, 0L, 'male', 21.0), (838L, 0L, 'male', nan), (841L, 0L, 'male', 20.0), (842L, 0L, 'male', 16.0), (844L, 0L, 'male', 34.5), (845L, 0L, 'male', 17.0), (846L, 0L, 'male', 42.0), (847L, 0L, 'male', nan), (848L, 0L, 'male', 35.0), (849L, 0L, 'male', 28.0), (851L, 0L, 'male', 4.0), (852L, 0L, 'male', 74.0), (853L, 0L, 'female', 9.0), (855L, 0L, 'female', 44.0), (860L, 0L, 'male', nan), (861L, 0L, 'male', 41.0), (862L, 0L, 'male', 21.0), (864L, 0L, 'female', nan), (865L, 0L, 'male', 24.0), (868L, 0L, 'male', 31.0), (869L, 0L, 'male', nan), (871L, 0L, 'male', 26.0), (873L, 0L, 'male', 33.0), (874L, 0L, 'male', 47.0), (877L, 0L, 'male', 20.0), (878L, 0L, 'male', 19.0), (879L, 0L, 'male', nan), (882L, 0L, 'male', 33.0), (883L, 0L, 'female', 22.0), (884L, 0L, 'male', 28.0), (885L, 0L, 'male', 25.0), (886L, 0L, 'female', 39.0), (887L, 0L, 'male', 27.0), (889L, 0L, 'female', nan), (891L, 0L, 'male', 32.0)]\n",
      "**** 549\n",
      "#### males dead 468\n"
     ]
    }
   ],
   "source": [
    "dead=[]\n",
    "for e in z:\n",
    "    if e[1]==0:\n",
    "        dead.append(e)\n",
    "        \n",
    "print dead\n",
    "print '****',len(dead)\n",
    "count=0\n",
    "for e in dead:\n",
    "    if e[2]=='male':\n",
    "        count=count+1\n",
    "    \n",
    "print '#### males dead',count"
   ]
  },
  {
   "cell_type": "code",
   "execution_count": 68,
   "metadata": {},
   "outputs": [
    {
     "name": "stdout",
     "output_type": "stream",
     "text": [
      "[(2L, 1L, 'female', 38.0), (3L, 1L, 'female', 26.0), (4L, 1L, 'female', 35.0), (9L, 1L, 'female', 27.0), (10L, 1L, 'female', 14.0), (11L, 1L, 'female', 4.0), (12L, 1L, 'female', 58.0), (16L, 1L, 'female', 55.0), (18L, 1L, 'male', nan), (20L, 1L, 'female', nan), (22L, 1L, 'male', 34.0), (23L, 1L, 'female', 15.0), (24L, 1L, 'male', 28.0), (26L, 1L, 'female', 38.0), (29L, 1L, 'female', nan), (32L, 1L, 'female', nan), (33L, 1L, 'female', nan), (37L, 1L, 'male', nan), (40L, 1L, 'female', 14.0), (44L, 1L, 'female', 3.0), (45L, 1L, 'female', 19.0), (48L, 1L, 'female', nan), (53L, 1L, 'female', 49.0), (54L, 1L, 'female', 29.0), (56L, 1L, 'male', nan), (57L, 1L, 'female', 21.0), (59L, 1L, 'female', 5.0), (62L, 1L, 'female', 38.0), (66L, 1L, 'male', nan), (67L, 1L, 'female', 29.0), (69L, 1L, 'female', 17.0), (75L, 1L, 'male', 32.0), (79L, 1L, 'male', 0.83), (80L, 1L, 'female', 30.0), (82L, 1L, 'male', 29.0), (83L, 1L, 'female', nan), (85L, 1L, 'female', 17.0), (86L, 1L, 'female', 33.0), (89L, 1L, 'female', 23.0), (98L, 1L, 'male', 23.0), (99L, 1L, 'female', 34.0), (107L, 1L, 'female', 21.0), (108L, 1L, 'male', nan), (110L, 1L, 'female', nan), (124L, 1L, 'female', 32.5), (126L, 1L, 'male', 12.0), (128L, 1L, 'male', 24.0), (129L, 1L, 'female', nan), (134L, 1L, 'female', 29.0), (137L, 1L, 'female', 19.0), (142L, 1L, 'female', 22.0), (143L, 1L, 'female', 24.0), (147L, 1L, 'male', 27.0), (152L, 1L, 'female', 22.0), (157L, 1L, 'female', 16.0), (162L, 1L, 'female', 40.0), (166L, 1L, 'male', 9.0), (167L, 1L, 'female', nan), (173L, 1L, 'female', 1.0), (184L, 1L, 'male', 1.0), (185L, 1L, 'female', 4.0), (187L, 1L, 'female', nan), (188L, 1L, 'male', 45.0), (191L, 1L, 'female', 32.0), (193L, 1L, 'female', 19.0), (194L, 1L, 'male', 3.0), (195L, 1L, 'female', 44.0), (196L, 1L, 'female', 58.0), (199L, 1L, 'female', nan), (205L, 1L, 'male', 18.0), (208L, 1L, 'male', 26.0), (209L, 1L, 'female', 16.0), (210L, 1L, 'male', 40.0), (212L, 1L, 'female', 35.0), (216L, 1L, 'female', 31.0), (217L, 1L, 'female', 27.0), (219L, 1L, 'female', 32.0), (221L, 1L, 'male', 16.0), (225L, 1L, 'male', 38.0), (227L, 1L, 'male', 19.0), (231L, 1L, 'female', 35.0), (234L, 1L, 'female', 5.0), (238L, 1L, 'female', 8.0), (242L, 1L, 'female', nan), (248L, 1L, 'female', 24.0), (249L, 1L, 'male', 37.0), (256L, 1L, 'female', 29.0), (257L, 1L, 'female', nan), (258L, 1L, 'female', 30.0), (259L, 1L, 'female', 35.0), (260L, 1L, 'female', 50.0), (262L, 1L, 'male', 3.0), (268L, 1L, 'male', 25.0), (269L, 1L, 'female', 58.0), (270L, 1L, 'female', 35.0), (272L, 1L, 'male', 25.0), (273L, 1L, 'female', 41.0), (275L, 1L, 'female', nan), (276L, 1L, 'female', 63.0), (280L, 1L, 'female', 35.0), (284L, 1L, 'male', 19.0), (287L, 1L, 'male', 30.0), (289L, 1L, 'male', 42.0), (290L, 1L, 'female', 22.0), (291L, 1L, 'female', 26.0), (292L, 1L, 'female', 19.0), (299L, 1L, 'male', nan), (300L, 1L, 'female', 50.0), (301L, 1L, 'female', nan), (302L, 1L, 'male', nan), (304L, 1L, 'female', nan), (306L, 1L, 'male', 0.92), (307L, 1L, 'female', nan), (308L, 1L, 'female', 17.0), (310L, 1L, 'female', 30.0), (311L, 1L, 'female', 24.0), (312L, 1L, 'female', 18.0), (316L, 1L, 'female', 26.0), (317L, 1L, 'female', 24.0), (319L, 1L, 'female', 31.0), (320L, 1L, 'female', 40.0), (323L, 1L, 'female', 30.0), (324L, 1L, 'female', 22.0), (326L, 1L, 'female', 36.0), (328L, 1L, 'female', 36.0), (329L, 1L, 'female', 31.0), (330L, 1L, 'female', 16.0), (331L, 1L, 'female', nan), (335L, 1L, 'female', nan), (338L, 1L, 'female', 41.0), (339L, 1L, 'male', 45.0), (341L, 1L, 'male', 2.0), (342L, 1L, 'female', 24.0), (346L, 1L, 'female', 24.0), (347L, 1L, 'female', 40.0), (348L, 1L, 'female', nan), (349L, 1L, 'male', 3.0), (357L, 1L, 'female', 22.0), (359L, 1L, 'female', nan), (360L, 1L, 'female', nan), (367L, 1L, 'female', 60.0), (368L, 1L, 'female', nan), (369L, 1L, 'female', nan), (370L, 1L, 'female', 24.0), (371L, 1L, 'male', 25.0), (376L, 1L, 'female', nan), (377L, 1L, 'female', 22.0), (381L, 1L, 'female', 42.0), (382L, 1L, 'female', 1.0), (384L, 1L, 'female', 35.0), (388L, 1L, 'female', 36.0), (390L, 1L, 'female', 17.0), (391L, 1L, 'male', 36.0), (392L, 1L, 'male', 21.0), (394L, 1L, 'female', 23.0), (395L, 1L, 'female', 24.0), (400L, 1L, 'female', 28.0), (401L, 1L, 'male', 39.0), (408L, 1L, 'male', 3.0), (413L, 1L, 'female', 33.0), (415L, 1L, 'male', 44.0), (417L, 1L, 'female', 34.0), (418L, 1L, 'female', 18.0), (427L, 1L, 'female', 28.0), (428L, 1L, 'female', 19.0), (430L, 1L, 'male', 32.0), (431L, 1L, 'male', 28.0), (432L, 1L, 'female', nan), (433L, 1L, 'female', 42.0), (436L, 1L, 'female', 14.0), (438L, 1L, 'female', 24.0), (441L, 1L, 'female', 45.0), (444L, 1L, 'female', 28.0), (445L, 1L, 'male', nan), (446L, 1L, 'male', 4.0), (447L, 1L, 'female', 13.0), (448L, 1L, 'male', 34.0), (449L, 1L, 'female', 5.0), (450L, 1L, 'male', 52.0), (454L, 1L, 'male', 49.0), (456L, 1L, 'male', 29.0), (458L, 1L, 'female', nan), (459L, 1L, 'female', 50.0), (461L, 1L, 'male', 48.0), (470L, 1L, 'female', 0.75), (473L, 1L, 'female', 33.0), (474L, 1L, 'female', 23.0), (480L, 1L, 'female', 2.0), (484L, 1L, 'female', 63.0), (485L, 1L, 'male', 25.0), (487L, 1L, 'female', 35.0), (490L, 1L, 'male', 9.0), (497L, 1L, 'female', 54.0), (505L, 1L, 'female', 16.0), (507L, 1L, 'female', 33.0), (508L, 1L, 'male', nan), (510L, 1L, 'male', 26.0), (511L, 1L, 'male', 29.0), (513L, 1L, 'male', 36.0), (514L, 1L, 'female', 54.0), (517L, 1L, 'female', 34.0), (519L, 1L, 'female', 36.0), (521L, 1L, 'female', 30.0), (524L, 1L, 'female', 44.0), (527L, 1L, 'female', 50.0), (531L, 1L, 'female', 2.0), (534L, 1L, 'female', nan), (536L, 1L, 'female', 7.0), (538L, 1L, 'female', 30.0), (540L, 1L, 'female', 22.0), (541L, 1L, 'female', 36.0), (544L, 1L, 'male', 32.0), (547L, 1L, 'female', 19.0), (548L, 1L, 'male', nan), (550L, 1L, 'male', 8.0), (551L, 1L, 'male', 17.0), (554L, 1L, 'male', 22.0), (555L, 1L, 'female', 22.0), (557L, 1L, 'female', 48.0), (559L, 1L, 'female', 39.0), (560L, 1L, 'female', 36.0), (570L, 1L, 'male', 32.0), (571L, 1L, 'male', 62.0), (572L, 1L, 'female', 53.0), (573L, 1L, 'male', 36.0), (574L, 1L, 'female', nan), (577L, 1L, 'female', 34.0), (578L, 1L, 'female', 39.0), (580L, 1L, 'male', 32.0), (581L, 1L, 'female', 25.0), (582L, 1L, 'female', 39.0), (586L, 1L, 'female', 18.0), (588L, 1L, 'male', 60.0), (592L, 1L, 'female', 52.0), (597L, 1L, 'female', nan), (600L, 1L, 'male', 49.0), (601L, 1L, 'female', 24.0), (605L, 1L, 'male', 35.0), (608L, 1L, 'male', 27.0), (609L, 1L, 'female', 22.0), (610L, 1L, 'female', 40.0), (613L, 1L, 'female', nan), (616L, 1L, 'female', 24.0), (619L, 1L, 'female', 4.0), (622L, 1L, 'male', 42.0), (623L, 1L, 'male', 20.0), (628L, 1L, 'female', 21.0), (631L, 1L, 'male', 80.0), (633L, 1L, 'male', 32.0), (636L, 1L, 'female', 28.0), (642L, 1L, 'female', 24.0), (644L, 1L, 'male', nan), (645L, 1L, 'female', 0.75), (646L, 1L, 'male', 48.0), (648L, 1L, 'male', 56.0), (650L, 1L, 'female', 23.0), (652L, 1L, 'female', 18.0), (654L, 1L, 'female', nan), (661L, 1L, 'male', 50.0), (665L, 1L, 'male', 20.0), (670L, 1L, 'female', nan), (671L, 1L, 'female', 40.0), (674L, 1L, 'male', 31.0), (678L, 1L, 'female', 18.0), (680L, 1L, 'male', 36.0), (682L, 1L, 'male', 27.0), (690L, 1L, 'female', 15.0), (691L, 1L, 'male', 31.0), (692L, 1L, 'female', 4.0), (693L, 1L, 'male', nan), (698L, 1L, 'female', nan), (701L, 1L, 'female', 18.0), (702L, 1L, 'male', 35.0), (707L, 1L, 'female', 45.0), (708L, 1L, 'male', 42.0), (709L, 1L, 'female', 22.0), (710L, 1L, 'male', nan), (711L, 1L, 'female', 24.0), (713L, 1L, 'male', 48.0), (717L, 1L, 'female', 38.0), (718L, 1L, 'female', 27.0), (721L, 1L, 'female', 6.0), (725L, 1L, 'male', 27.0), (727L, 1L, 'female', 30.0), (728L, 1L, 'female', nan), (731L, 1L, 'female', 29.0), (738L, 1L, 'male', 35.0), (741L, 1L, 'male', nan), (743L, 1L, 'female', 21.0), (745L, 1L, 'male', 31.0), (748L, 1L, 'female', 30.0), (751L, 1L, 'female', 4.0), (752L, 1L, 'male', 6.0), (755L, 1L, 'female', 48.0), (756L, 1L, 'male', 0.67), (760L, 1L, 'female', 33.0), (763L, 1L, 'male', 20.0), (764L, 1L, 'female', 36.0), (766L, 1L, 'female', 51.0), (775L, 1L, 'female', 54.0), (778L, 1L, 'female', 5.0), (780L, 1L, 'female', 43.0), (781L, 1L, 'female', 13.0), (782L, 1L, 'female', 17.0), (787L, 1L, 'female', 18.0), (789L, 1L, 'male', 1.0), (797L, 1L, 'female', 49.0), (798L, 1L, 'female', 31.0), (802L, 1L, 'female', 31.0), (803L, 1L, 'male', 11.0), (804L, 1L, 'male', 0.42), (805L, 1L, 'male', 27.0), (810L, 1L, 'female', 33.0), (821L, 1L, 'female', 52.0), (822L, 1L, 'male', 27.0), (824L, 1L, 'female', 27.0), (828L, 1L, 'male', 1.0), (829L, 1L, 'male', nan), (830L, 1L, 'female', 62.0), (831L, 1L, 'female', 15.0), (832L, 1L, 'male', 0.83), (836L, 1L, 'female', 39.0), (839L, 1L, 'male', 32.0), (840L, 1L, 'male', nan), (843L, 1L, 'female', 30.0), (850L, 1L, 'female', nan), (854L, 1L, 'female', 16.0), (856L, 1L, 'female', 18.0), (857L, 1L, 'female', 45.0), (858L, 1L, 'male', 51.0), (859L, 1L, 'female', 24.0), (863L, 1L, 'female', 48.0), (866L, 1L, 'female', 42.0), (867L, 1L, 'female', 27.0), (870L, 1L, 'male', 4.0), (872L, 1L, 'female', 47.0), (875L, 1L, 'female', 28.0), (876L, 1L, 'female', 15.0), (880L, 1L, 'female', 56.0), (881L, 1L, 'female', 25.0), (888L, 1L, 'female', 19.0), (890L, 1L, 'male', 26.0)]\n",
      "***** 342\n",
      "#### males alive 109\n"
     ]
    }
   ],
   "source": [
    "alive=[]\n",
    "for e in z:\n",
    "    if e[1]==1:\n",
    "        alive.append(e)\n",
    "        \n",
    "print alive\n",
    "print \"*****\",len(alive)\n",
    "\n",
    "count=0\n",
    "for e in alive:\n",
    "    if e[2]=='male':\n",
    "        count=count+1\n",
    "    \n",
    "print '#### males alive',count"
   ]
  }
 ],
 "metadata": {
  "kernelspec": {
   "display_name": "Python [conda root]",
   "language": "python",
   "name": "conda-root-py"
  },
  "language_info": {
   "codemirror_mode": {
    "name": "ipython",
    "version": 2
   },
   "file_extension": ".py",
   "mimetype": "text/x-python",
   "name": "python",
   "nbconvert_exporter": "python",
   "pygments_lexer": "ipython2",
   "version": "2.7.13"
  }
 },
 "nbformat": 4,
 "nbformat_minor": 2
}
