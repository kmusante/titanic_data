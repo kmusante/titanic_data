{
 "cells": [
  {
   "cell_type": "code",
   "execution_count": 98,
   "metadata": {
    "collapsed": true
   },
   "outputs": [],
   "source": [
    "#laod CSV File as pd and name titanic_data\n",
    "#load needed libraries\n",
    "\n",
    "import numpy as np\n",
    "import pandas as pd\n",
    "import matplotlib.pyplot as plt\n",
    "from collections import defaultdict\n",
    "\n",
    "\n",
    "titanic_data=pd.read_csv(\"titanic-data.csv\")\n",
    "\n"
   ]
  },
  {
   "cell_type": "code",
   "execution_count": 99,
   "metadata": {
    "collapsed": true
   },
   "outputs": [],
   "source": [
    "#Questions I'd like to explore:\n",
    "#1.  Were the survivors more likely to be women or children?\n",
    "#2.  Did the cost of the ticket matter in survivability?"
   ]
  },
  {
   "cell_type": "code",
   "execution_count": 100,
   "metadata": {},
   "outputs": [
    {
     "data": {
      "text/plain": [
       "0    549\n",
       "1    342\n",
       "Name: Survived, dtype: int64"
      ]
     },
     "execution_count": 100,
     "metadata": {},
     "output_type": "execute_result"
    }
   ],
   "source": [
    "#Based on my questions, I know I need to ensure the following fields are clean:  Survived, Pclass, Sex and Age\n",
    "#I'll check these one at time staring with Survived\n",
    "titanic_data.Survived.value_counts().sort_index()\n",
    "#based on 891 records, it appears 'Survived' is clean"
   ]
  },
  {
   "cell_type": "code",
   "execution_count": 101,
   "metadata": {},
   "outputs": [
    {
     "data": {
      "text/plain": [
       "1    216\n",
       "2    184\n",
       "3    491\n",
       "Name: Pclass, dtype: int64"
      ]
     },
     "execution_count": 101,
     "metadata": {},
     "output_type": "execute_result"
    }
   ],
   "source": [
    "#check # of records for Pclass\n",
    "#based on 891 records, it appears 'Pclass' is clean\n",
    "titanic_data.Pclass.value_counts().sort_index()"
   ]
  },
  {
   "cell_type": "code",
   "execution_count": 102,
   "metadata": {},
   "outputs": [
    {
     "data": {
      "text/plain": [
       "female    314\n",
       "male      577\n",
       "Name: Sex, dtype: int64"
      ]
     },
     "execution_count": 102,
     "metadata": {},
     "output_type": "execute_result"
    }
   ],
   "source": [
    "#check # of records for Sex\n",
    "#based on 891 records, it appears 'Sex' is clean\n",
    "titanic_data.Sex.value_counts().sort_index()"
   ]
  },
  {
   "cell_type": "code",
   "execution_count": 103,
   "metadata": {},
   "outputs": [
    {
     "data": {
      "text/plain": [
       "0.42      1\n",
       "0.67      1\n",
       "0.75      2\n",
       "0.83      2\n",
       "0.92      1\n",
       "1.00      7\n",
       "2.00     10\n",
       "3.00      6\n",
       "4.00     10\n",
       "5.00      4\n",
       "6.00      3\n",
       "7.00      3\n",
       "8.00      4\n",
       "9.00      8\n",
       "10.00     2\n",
       "11.00     4\n",
       "12.00     1\n",
       "13.00     2\n",
       "14.00     6\n",
       "14.50     1\n",
       "15.00     5\n",
       "16.00    17\n",
       "17.00    13\n",
       "18.00    26\n",
       "19.00    25\n",
       "20.00    15\n",
       "20.50     1\n",
       "21.00    24\n",
       "22.00    27\n",
       "23.00    15\n",
       "23.50     1\n",
       "24.00    30\n",
       "24.50     1\n",
       "25.00    23\n",
       "26.00    18\n",
       "27.00    18\n",
       "28.00    25\n",
       "28.50     2\n",
       "29.00    20\n",
       "30.00    25\n",
       "30.50     2\n",
       "31.00    17\n",
       "32.00    18\n",
       "32.50     2\n",
       "33.00    15\n",
       "34.00    15\n",
       "34.50     1\n",
       "35.00    18\n",
       "36.00    22\n",
       "36.50     1\n",
       "37.00     6\n",
       "38.00    11\n",
       "39.00    14\n",
       "40.00    13\n",
       "40.50     2\n",
       "41.00     6\n",
       "42.00    13\n",
       "43.00     5\n",
       "44.00     9\n",
       "45.00    12\n",
       "45.50     2\n",
       "46.00     3\n",
       "47.00     9\n",
       "48.00     9\n",
       "49.00     6\n",
       "50.00    10\n",
       "51.00     7\n",
       "52.00     6\n",
       "53.00     1\n",
       "54.00     8\n",
       "55.00     2\n",
       "55.50     1\n",
       "56.00     4\n",
       "57.00     2\n",
       "58.00     5\n",
       "59.00     2\n",
       "60.00     4\n",
       "61.00     3\n",
       "62.00     4\n",
       "63.00     2\n",
       "64.00     2\n",
       "65.00     3\n",
       "66.00     1\n",
       "70.00     2\n",
       "70.50     1\n",
       "71.00     2\n",
       "74.00     1\n",
       "80.00     1\n",
       "Name: Age, dtype: int64"
      ]
     },
     "execution_count": 103,
     "metadata": {},
     "output_type": "execute_result"
    }
   ],
   "source": [
    "#check # of records for Age\n",
    "#I cant immediately determine if all passengers are assisgned an age\n",
    "titanic_data.Age.value_counts().sort_index()\n"
   ]
  },
  {
   "cell_type": "code",
   "execution_count": 104,
   "metadata": {},
   "outputs": [
    {
     "data": {
      "text/plain": [
       "714L"
      ]
     },
     "execution_count": 104,
     "metadata": {},
     "output_type": "execute_result"
    }
   ],
   "source": [
    "#check # of records for Age\n",
    "#from this query its clear that only 714 passengers have been assigned an age\n",
    "titanic_data.Age.value_counts().sort_index().sum()"
   ]
  },
  {
   "cell_type": "code",
   "execution_count": 105,
   "metadata": {},
   "outputs": [
    {
     "name": "stdout",
     "output_type": "stream",
     "text": [
      "    PassengerId  Survived  Pclass  \\\n",
      "0             1         0       3   \n",
      "1             2         1       1   \n",
      "2             3         1       3   \n",
      "3             4         1       1   \n",
      "4             5         0       3   \n",
      "5             6         0       3   \n",
      "6             7         0       1   \n",
      "7             8         0       3   \n",
      "8             9         1       3   \n",
      "9            10         1       2   \n",
      "10           11         1       3   \n",
      "11           12         1       1   \n",
      "12           13         0       3   \n",
      "13           14         0       3   \n",
      "14           15         0       3   \n",
      "15           16         1       2   \n",
      "16           17         0       3   \n",
      "17           18         1       2   \n",
      "18           19         0       3   \n",
      "19           20         1       3   \n",
      "20           21         0       2   \n",
      "21           22         1       2   \n",
      "22           23         1       3   \n",
      "23           24         1       1   \n",
      "24           25         0       3   \n",
      "25           26         1       3   \n",
      "26           27         0       3   \n",
      "27           28         0       1   \n",
      "28           29         1       3   \n",
      "29           30         0       3   \n",
      "\n",
      "                                                 Name     Sex   Age  SibSp  \\\n",
      "0                             Braund, Mr. Owen Harris    male  22.0      1   \n",
      "1   Cumings, Mrs. John Bradley (Florence Briggs Th...  female  38.0      1   \n",
      "2                              Heikkinen, Miss. Laina  female  26.0      0   \n",
      "3        Futrelle, Mrs. Jacques Heath (Lily May Peel)  female  35.0      1   \n",
      "4                            Allen, Mr. William Henry    male  35.0      0   \n",
      "5                                    Moran, Mr. James    male   NaN      0   \n",
      "6                             McCarthy, Mr. Timothy J    male  54.0      0   \n",
      "7                      Palsson, Master. Gosta Leonard    male   2.0      3   \n",
      "8   Johnson, Mrs. Oscar W (Elisabeth Vilhelmina Berg)  female  27.0      0   \n",
      "9                 Nasser, Mrs. Nicholas (Adele Achem)  female  14.0      1   \n",
      "10                    Sandstrom, Miss. Marguerite Rut  female   4.0      1   \n",
      "11                           Bonnell, Miss. Elizabeth  female  58.0      0   \n",
      "12                     Saundercock, Mr. William Henry    male  20.0      0   \n",
      "13                        Andersson, Mr. Anders Johan    male  39.0      1   \n",
      "14               Vestrom, Miss. Hulda Amanda Adolfina  female  14.0      0   \n",
      "15                   Hewlett, Mrs. (Mary D Kingcome)   female  55.0      0   \n",
      "16                               Rice, Master. Eugene    male   2.0      4   \n",
      "17                       Williams, Mr. Charles Eugene    male   NaN      0   \n",
      "18  Vander Planke, Mrs. Julius (Emelia Maria Vande...  female  31.0      1   \n",
      "19                            Masselmani, Mrs. Fatima  female   NaN      0   \n",
      "20                               Fynney, Mr. Joseph J    male  35.0      0   \n",
      "21                              Beesley, Mr. Lawrence    male  34.0      0   \n",
      "22                        McGowan, Miss. Anna \"Annie\"  female  15.0      0   \n",
      "23                       Sloper, Mr. William Thompson    male  28.0      0   \n",
      "24                      Palsson, Miss. Torborg Danira  female   8.0      3   \n",
      "25  Asplund, Mrs. Carl Oscar (Selma Augusta Emilia...  female  38.0      1   \n",
      "26                            Emir, Mr. Farred Chehab    male   NaN      0   \n",
      "27                     Fortune, Mr. Charles Alexander    male  19.0      3   \n",
      "28                      O'Dwyer, Miss. Ellen \"Nellie\"  female   NaN      0   \n",
      "29                                Todoroff, Mr. Lalio    male   NaN      0   \n",
      "\n",
      "    Parch            Ticket      Fare        Cabin Embarked  \n",
      "0       0         A/5 21171    7.2500          NaN        S  \n",
      "1       0          PC 17599   71.2833          C85        C  \n",
      "2       0  STON/O2. 3101282    7.9250          NaN        S  \n",
      "3       0            113803   53.1000         C123        S  \n",
      "4       0            373450    8.0500          NaN        S  \n",
      "5       0            330877    8.4583          NaN        Q  \n",
      "6       0             17463   51.8625          E46        S  \n",
      "7       1            349909   21.0750          NaN        S  \n",
      "8       2            347742   11.1333          NaN        S  \n",
      "9       0            237736   30.0708          NaN        C  \n",
      "10      1           PP 9549   16.7000           G6        S  \n",
      "11      0            113783   26.5500         C103        S  \n",
      "12      0         A/5. 2151    8.0500          NaN        S  \n",
      "13      5            347082   31.2750          NaN        S  \n",
      "14      0            350406    7.8542          NaN        S  \n",
      "15      0            248706   16.0000          NaN        S  \n",
      "16      1            382652   29.1250          NaN        Q  \n",
      "17      0            244373   13.0000          NaN        S  \n",
      "18      0            345763   18.0000          NaN        S  \n",
      "19      0              2649    7.2250          NaN        C  \n",
      "20      0            239865   26.0000          NaN        S  \n",
      "21      0            248698   13.0000          D56        S  \n",
      "22      0            330923    8.0292          NaN        Q  \n",
      "23      0            113788   35.5000           A6        S  \n",
      "24      1            349909   21.0750          NaN        S  \n",
      "25      5            347077   31.3875          NaN        S  \n",
      "26      0              2631    7.2250          NaN        C  \n",
      "27      2             19950  263.0000  C23 C25 C27        S  \n",
      "28      0            330959    7.8792          NaN        Q  \n",
      "29      0            349216    7.8958          NaN        S  \n"
     ]
    }
   ],
   "source": [
    "#use this to see data when needed\n",
    "#max rows = 1000 so i can see all data\n",
    "#I'm going to run this to ensure my above findings make sense.  It seems to as the only column missing\n",
    "#  data from the fields i searched is Age. (note I did expand this to n=891 and looked at as well)\n",
    "pd.options.display.max_rows = 1000\n",
    "print titanic_data.head(n=30)"
   ]
  },
  {
   "cell_type": "code",
   "execution_count": 106,
   "metadata": {},
   "outputs": [],
   "source": [
    "#replace non numeric data in Age with the average age of all passengers\n",
    "titanic_data['Age'] = np.where(pd.isnull(titanic_data['Age']), titanic_data['Age'].mean(),titanic_data['Age'])"
   ]
  },
  {
   "cell_type": "code",
   "execution_count": 107,
   "metadata": {},
   "outputs": [
    {
     "name": "stdout",
     "output_type": "stream",
     "text": [
      "0     22.000000\n",
      "1     38.000000\n",
      "2     26.000000\n",
      "3     35.000000\n",
      "4     35.000000\n",
      "5     29.699118\n",
      "6     54.000000\n",
      "7      2.000000\n",
      "8     27.000000\n",
      "9     14.000000\n",
      "10     4.000000\n",
      "11    58.000000\n",
      "12    20.000000\n",
      "13    39.000000\n",
      "14    14.000000\n",
      "15    55.000000\n",
      "16     2.000000\n",
      "17    29.699118\n",
      "18    31.000000\n",
      "19    29.699118\n",
      "20    35.000000\n",
      "21    34.000000\n",
      "22    15.000000\n",
      "23    28.000000\n",
      "24     8.000000\n",
      "25    38.000000\n",
      "26    29.699118\n",
      "27    19.000000\n",
      "28    29.699118\n",
      "29    29.699118\n",
      "Name: Age, dtype: float64\n"
     ]
    },
    {
     "data": {
      "text/plain": [
       "891L"
      ]
     },
     "execution_count": 107,
     "metadata": {},
     "output_type": "execute_result"
    }
   ],
   "source": [
    "#verify this indeed made a difference and I have 891 passengers with an 'Age'\n",
    "#note the average age which was used is 29.699118\n",
    "pd.options.display.max_rows = 1000\n",
    "print titanic_data['Age'].head(n=30)\n",
    "titanic_data.Age.value_counts().sort_index().sum()"
   ]
  },
  {
   "cell_type": "code",
   "execution_count": 108,
   "metadata": {},
   "outputs": [
    {
     "name": "stdout",
     "output_type": "stream",
     "text": [
      "Populating the interactive namespace from numpy and matplotlib\n"
     ]
    }
   ],
   "source": [
    "#magic.....really. I learned this command will activate pylab (matplotlib, numpy and interactive support)\n",
    "#still trying to understand the importance of this but i think i need to populate interactive namespace.\n",
    "#its like the 'import' commands but you dont need to 'import'\n",
    "%pylab inline"
   ]
  },
  {
   "cell_type": "code",
   "execution_count": 109,
   "metadata": {},
   "outputs": [
    {
     "name": "stdout",
     "output_type": "stream",
     "text": [
      "PassengerId  Survived  Sex     Age      \n",
      "1            0         male    22.000000    0\n",
      "2            1         female  38.000000    1\n",
      "3            1         female  26.000000    1\n",
      "4            1         female  35.000000    1\n",
      "5            0         male    35.000000    0\n",
      "6            0         male    29.699118    0\n",
      "7            0         male    54.000000    0\n",
      "8            0         male    2.000000     0\n",
      "9            1         female  27.000000    1\n",
      "10           1         female  14.000000    1\n",
      "11           1         female  4.000000     1\n",
      "12           1         female  58.000000    1\n",
      "13           0         male    20.000000    0\n",
      "14           0         male    39.000000    0\n",
      "15           0         female  14.000000    0\n",
      "Name: Survived, dtype: int64\n"
     ]
    }
   ],
   "source": [
    "#look at subset of data.  For question 1 i care more about the Survived, Sex and Age fields\n",
    "titanic_subset=titanic_data.groupby(['PassengerId', 'Survived', 'Sex', 'Age'])\n",
    "print titanic_subset['Survived'].first().head(n=15)\n",
    "\n"
   ]
  },
  {
   "cell_type": "code",
   "execution_count": 110,
   "metadata": {},
   "outputs": [
    {
     "data": {
      "text/html": [
       "<div>\n",
       "<style>\n",
       "    .dataframe thead tr:only-child th {\n",
       "        text-align: right;\n",
       "    }\n",
       "\n",
       "    .dataframe thead th {\n",
       "        text-align: left;\n",
       "    }\n",
       "\n",
       "    .dataframe tbody tr th {\n",
       "        vertical-align: top;\n",
       "    }\n",
       "</style>\n",
       "<table border=\"1\" class=\"dataframe\">\n",
       "  <thead>\n",
       "    <tr style=\"text-align: right;\">\n",
       "      <th></th>\n",
       "      <th>PassengerId</th>\n",
       "      <th>Survived</th>\n",
       "      <th>Age</th>\n",
       "    </tr>\n",
       "  </thead>\n",
       "  <tbody>\n",
       "    <tr>\n",
       "      <th>count</th>\n",
       "      <td>891.000000</td>\n",
       "      <td>891.000000</td>\n",
       "      <td>891.000000</td>\n",
       "    </tr>\n",
       "    <tr>\n",
       "      <th>mean</th>\n",
       "      <td>446.000000</td>\n",
       "      <td>0.383838</td>\n",
       "      <td>29.699118</td>\n",
       "    </tr>\n",
       "    <tr>\n",
       "      <th>std</th>\n",
       "      <td>257.353842</td>\n",
       "      <td>0.486592</td>\n",
       "      <td>13.002015</td>\n",
       "    </tr>\n",
       "    <tr>\n",
       "      <th>min</th>\n",
       "      <td>1.000000</td>\n",
       "      <td>0.000000</td>\n",
       "      <td>0.420000</td>\n",
       "    </tr>\n",
       "    <tr>\n",
       "      <th>25%</th>\n",
       "      <td>223.500000</td>\n",
       "      <td>0.000000</td>\n",
       "      <td>22.000000</td>\n",
       "    </tr>\n",
       "    <tr>\n",
       "      <th>50%</th>\n",
       "      <td>446.000000</td>\n",
       "      <td>0.000000</td>\n",
       "      <td>29.699118</td>\n",
       "    </tr>\n",
       "    <tr>\n",
       "      <th>75%</th>\n",
       "      <td>668.500000</td>\n",
       "      <td>1.000000</td>\n",
       "      <td>35.000000</td>\n",
       "    </tr>\n",
       "    <tr>\n",
       "      <th>max</th>\n",
       "      <td>891.000000</td>\n",
       "      <td>1.000000</td>\n",
       "      <td>80.000000</td>\n",
       "    </tr>\n",
       "  </tbody>\n",
       "</table>\n",
       "</div>"
      ],
      "text/plain": [
       "       PassengerId    Survived         Age\n",
       "count   891.000000  891.000000  891.000000\n",
       "mean    446.000000    0.383838   29.699118\n",
       "std     257.353842    0.486592   13.002015\n",
       "min       1.000000    0.000000    0.420000\n",
       "25%     223.500000    0.000000   22.000000\n",
       "50%     446.000000    0.000000   29.699118\n",
       "75%     668.500000    1.000000   35.000000\n",
       "max     891.000000    1.000000   80.000000"
      ]
     },
     "execution_count": 110,
     "metadata": {},
     "output_type": "execute_result"
    }
   ],
   "source": [
    "#The 4 fields i care about are PassengerID, Survived, Sex and Age for question #1\n",
    "#From this we can see 38.38% of the passengers survived\n",
    "\n",
    "four_fields=titanic_data[['PassengerId', 'Survived', 'Sex', 'Age']].describe()\n",
    "four_fields\n",
    "\n",
    "\n"
   ]
  },
  {
   "cell_type": "code",
   "execution_count": 111,
   "metadata": {},
   "outputs": [
    {
     "data": {
      "text/plain": [
       "Sex\n",
       "female    314\n",
       "male      577\n",
       "Name: Pclass, dtype: int64"
      ]
     },
     "execution_count": 111,
     "metadata": {},
     "output_type": "execute_result"
    }
   ],
   "source": [
    "#sex_at_launch is not what you expected.....it is the number of each sex at time of launch\n",
    "sex_at_launch=titanic_data.groupby(['Sex'])['Pclass'].count()\n",
    "sex_at_launch"
   ]
  },
  {
   "cell_type": "code",
   "execution_count": 112,
   "metadata": {},
   "outputs": [
    {
     "data": {
      "text/plain": [
       "<matplotlib.text.Text at 0xd4eecc0>"
      ]
     },
     "execution_count": 112,
     "metadata": {},
     "output_type": "execute_result"
    },
    {
     "data": {
      "image/png": "[encoded data removed]",
      "text/plain": [
       "<matplotlib.figure.Figure at 0xc7ff320>"
      ]
     },
     "metadata": {},
     "output_type": "display_data"
    }
   ],
   "source": [
    "#Graphically, the division by sex_at_launch looks like this\n",
    "#titanic_data.groupby(['Sex'])[['PassengerId']].count().plot(kind='bar').set_ylabel('# Passengers')\n",
    "sex_at_launch.plot(kind='bar', title =\"Sex at time of Boarding\").set_ylabel('# Passengers')"
   ]
  },
  {
   "cell_type": "code",
   "execution_count": 113,
   "metadata": {},
   "outputs": [
    {
     "data": {
      "text/plain": [
       "Sex\n",
       "female    233\n",
       "male      109\n",
       "Name: Survived, dtype: int64"
      ]
     },
     "execution_count": 113,
     "metadata": {},
     "output_type": "execute_result"
    }
   ],
   "source": [
    "#by number of each sex by survivors looks like this\n",
    "survivors=titanic_data.groupby(['Sex'])['Survived'].sum()\n",
    "survivors"
   ]
  },
  {
   "cell_type": "code",
   "execution_count": 114,
   "metadata": {},
   "outputs": [
    {
     "data": {
      "text/plain": [
       "<matplotlib.text.Text at 0xc645f98>"
      ]
     },
     "execution_count": 114,
     "metadata": {},
     "output_type": "execute_result"
    },
    {
     "data": {
      "image/png": "[encoded data removed]",
      "text/plain": [
       "<matplotlib.figure.Figure at 0xb7cc0f0>"
      ]
     },
     "metadata": {},
     "output_type": "display_data"
    }
   ],
   "source": [
    "#graphically it looks like this.....\n",
    "#Even though we started with 577 males, there were over twice as many surviving females.\n",
    "\n",
    "#the below code was not used and I was just experiementing\n",
    "#titanic_data.groupby(['Sex' ])[['Survived']].count().stack().plot(kind='bar').set_ylabel('Count')\n",
    "#df_sex_survived = titanic_data[(titanic_data.Survived)==1]\n",
    "#df_sex_survived.groupby(['Sex'])[['Survived']].sum().plot(kind='bar').set_ylabel('# Survived by Sex')\n",
    "#plt.show()\n",
    "\n",
    "survivors.plot(kind='bar', title =\"Sex of Survivors\").set_ylabel('# Survivors')"
   ]
  },
  {
   "cell_type": "code",
   "execution_count": 115,
   "metadata": {},
   "outputs": [
    {
     "data": {
      "text/plain": [
       "Sex\n",
       "female    0.261504\n",
       "male      0.122334\n",
       "Name: Survived, dtype: float64"
      ]
     },
     "execution_count": 115,
     "metadata": {},
     "output_type": "execute_result"
    }
   ],
   "source": [
    "#I can tell that only 12.22% of the survivesrs were males survived and 26.15% of the survivors were females\n",
    "# even though at launch 64.76% were males and 35.24% were females\n",
    "ratio=titanic_data.groupby(['Sex'])['Survived'].sum()/891\n",
    "ratio"
   ]
  },
  {
   "cell_type": "code",
   "execution_count": 116,
   "metadata": {},
   "outputs": [
    {
     "data": {
      "text/plain": [
       "<matplotlib.text.Text at 0xcab3cf8>"
      ]
     },
     "execution_count": 116,
     "metadata": {},
     "output_type": "execute_result"
    },
    {
     "data": {
      "image/png": "[encoded data removed]",
      "text/plain": [
       "<matplotlib.figure.Figure at 0xc8f0860>"
      ]
     },
     "metadata": {},
     "output_type": "display_data"
    }
   ],
   "source": [
    "#here's a histogram of the age of the passengers at time of boarding\n",
    "ax = titanic_data['Age'].hist()\n",
    "ax.set_ylabel('# of Passengers')\n",
    "ax.set_xlabel('Age')\n",
    "ax.set_title('Age distribution of Passengers at time of boarding')\n"
   ]
  },
  {
   "cell_type": "code",
   "execution_count": 117,
   "metadata": {},
   "outputs": [
    {
     "data": {
      "text/plain": [
       "<matplotlib.text.Text at 0xc841240>"
      ]
     },
     "execution_count": 117,
     "metadata": {},
     "output_type": "execute_result"
    },
    {
     "data": {
      "image/png": "[encoded data removed]",
      "text/plain": [
       "<matplotlib.figure.Figure at 0xd542128>"
      ]
     },
     "metadata": {},
     "output_type": "display_data"
    }
   ],
   "source": [
    "#here's a histogram of the age of the surviving passengers\n",
    "#There was a bias to protect the individuals below 20 years old\n",
    "\n",
    "df_sex_survived = titanic_data[(titanic_data.Survived)==1]\n",
    "ax = df_sex_survived['Age'].hist()\n",
    "ax.set_ylabel('# of Passengers')\n",
    "ax.set_xlabel('Age')\n",
    "ax.set_title('Age distribution of Surviving Passengers')\n"
   ]
  },
  {
   "cell_type": "code",
   "execution_count": 118,
   "metadata": {
    "collapsed": true
   },
   "outputs": [],
   "source": [
    "\n",
    "#separate the categories by age so I can see graphically their ages\n",
    "\n",
    "titanic_data['age_categories'] = pd.cut(titanic_data['Age'], bins = [0,18,40,81],labels=['child','adult','senior'])"
   ]
  },
  {
   "cell_type": "code",
   "execution_count": 119,
   "metadata": {},
   "outputs": [
    {
     "data": {
      "image/png": "[encoded data removed]",
      "text/plain": [
       "<matplotlib.figure.Figure at 0xd391ba8>"
      ]
     },
     "metadata": {},
     "output_type": "display_data"
    },
    {
     "data": {
      "image/png": "[encoded data removed]",
      "text/plain": [
       "<matplotlib.figure.Figure at 0xc7d9198>"
      ]
     },
     "metadata": {},
     "output_type": "display_data"
    }
   ],
   "source": [
    "#create comparison bar graph of survivors by age_categoires vs passengers at time of boarding by age_categories\n",
    "#from the graph below it appears there was a concerted effort to save youth over the aged\n",
    "\n",
    "ax = titanic_data.groupby('age_categories')['Survived'].count().plot(kind='bar', color='red', position=0, title =\"Age of Survivors vs Age at time of Boarding\")\n",
    "ax2 = titanic_data.groupby('age_categories')['Survived'].sum().plot(kind='bar', color='blue', position=1)\n",
    "ax.set_xlabel(\"Age Group\")\n",
    "ax.set_ylabel(\"Blue=Survivors  Red=At time of Boarding\")\n",
    "plt.show()\n",
    "\n",
    "ax = titanic_data.groupby('age_categories')['Survived'].sum().plot(kind='bar', title =\"Age Category by Survivors\")\n",
    "ax.set_xlabel(\"Age Group\")\n",
    "ax.set_ylabel(\"Survived\")\n",
    "plt.show()"
   ]
  },
  {
   "cell_type": "code",
   "execution_count": 120,
   "metadata": {
    "collapsed": true
   },
   "outputs": [],
   "source": [
    "#In general, in response to Q#1 woman had a much higher survivability rate than men.  See Conclusion below\n",
    "\n",
    "#Younger people also had a greater surviviability rate but that really was only mildly visible.  See Conclusion below."
   ]
  },
  {
   "cell_type": "code",
   "execution_count": 147,
   "metadata": {},
   "outputs": [
    {
     "data": {
      "text/plain": [
       "891L"
      ]
     },
     "execution_count": 147,
     "metadata": {},
     "output_type": "execute_result"
    }
   ],
   "source": [
    "#for question #2 get subset of data\n",
    "#also check that I have 891 Fare's listed\n",
    "titanic_subset2=titanic_data.groupby(['PassengerId', 'Survived', 'Fare', 'Pclass'])\n",
    "titanic_subset2.Fare.value_counts().sort_index().sum()\n"
   ]
  },
  {
   "cell_type": "code",
   "execution_count": 149,
   "metadata": {},
   "outputs": [
    {
     "data": {
      "text/plain": [
       "<matplotlib.text.Text at 0x13d62cc0>"
      ]
     },
     "execution_count": 149,
     "metadata": {},
     "output_type": "execute_result"
    },
    {
     "data": {
      "image/png": "[encoded data removed]",
      "text/plain": [
       "<matplotlib.figure.Figure at 0x1309a780>"
      ]
     },
     "metadata": {},
     "output_type": "display_data"
    }
   ],
   "source": [
    "#run scatter plot to validate that Pclass 1 had highest fares and Pclass 3 the least expensive fares\n",
    "#verify there is a correlation between fare and Pclass\n",
    "\n",
    "#plt.scatter(x=titanic_subset2['Fare'],y=titanic_subset2['Pclass'])\n",
    "\n",
    "plt.scatter(titanic_subset2['Fare'],titanic_subset2['Pclass'])\n",
    "plt.xlabel('Fare Price')\n",
    "plt.ylabel('Pclass')\n",
    "plt.title('Pclass vs Fare price')\n"
   ]
  },
  {
   "cell_type": "code",
   "execution_count": 123,
   "metadata": {},
   "outputs": [
    {
     "data": {
      "text/plain": [
       "Pclass\n",
       "1    216\n",
       "2    184\n",
       "3    491\n",
       "Name: Survived, dtype: int64"
      ]
     },
     "execution_count": 123,
     "metadata": {},
     "output_type": "execute_result"
    }
   ],
   "source": [
    "#to look at the count by Pclass at time of booking, I can do the following\n",
    "\n",
    "titanic_data.groupby(['Pclass'])['Survived'].count()"
   ]
  },
  {
   "cell_type": "code",
   "execution_count": 124,
   "metadata": {},
   "outputs": [
    {
     "data": {
      "text/plain": [
       "Pclass\n",
       "1    136\n",
       "2     87\n",
       "3    119\n",
       "Name: Survived, dtype: int64"
      ]
     },
     "execution_count": 124,
     "metadata": {},
     "output_type": "execute_result"
    }
   ],
   "source": [
    "#to look at the count by Pclass by survival, i can do the following\n",
    "\n",
    "titanic_data.groupby(['Pclass'])['Survived'].sum()"
   ]
  },
  {
   "cell_type": "code",
   "execution_count": 125,
   "metadata": {},
   "outputs": [
    {
     "data": {
      "image/png": "[encoded data removed]",
      "text/plain": [
       "<matplotlib.figure.Figure at 0xdcd4358>"
      ]
     },
     "metadata": {},
     "output_type": "display_data"
    }
   ],
   "source": [
    "#create a bar graph comparing the survivors by Pclass to the original passengers by Pclass\n",
    "\n",
    "ax = titanic_data.groupby(['Pclass'])['Survived'].count().plot(kind='bar', color='red', position=0, title =\"Pclass of Boarding vs Pclass of Survivors\")\n",
    "ax2 = titanic_data.groupby(['Pclass'])['Survived'].sum().plot(kind='bar', color='blue', position=1)\n",
    "ax.set_xlabel(\"Age Group\")\n",
    "ax.set_ylabel(\"Blue=Survivors  Red=At time of Boarding\")\n",
    "plt.show()\n"
   ]
  },
  {
   "cell_type": "code",
   "execution_count": 126,
   "metadata": {
    "collapsed": true
   },
   "outputs": [],
   "source": [
    "#From the above graph, it appears that, all else equal, Pclass 1 survived the most and that was the LEAST expensive class!!"
   ]
  },
  {
   "cell_type": "code",
   "execution_count": 127,
   "metadata": {
    "collapsed": true
   },
   "outputs": [],
   "source": [
    "#CONCLUSION\n",
    "\n",
    "#1.  Were the survivors more likely to be women or children?  Yes...it seems that females had a greater likelihood to survive.\n",
    "#Age did not seem to have a bearing on the survivability of folk after about 20 years of age.\n",
    "\n",
    "#In general, in response to Q#1 woman had a much higher survivability rate than men.  this could be due to a number of factors\n",
    "#My first assumption is that \"women and children first\" mentality ruled and women were given preferences in the lifeboats.\n",
    "#This may or may not be true, however as it could have been that the men were all very old or the men were poor swimmers.\n",
    "#We can not make an absolute statement as there may have been other factors which we are not aware of and we \n",
    "#did not overlay other factors such as Pclass and whether their cabins were on upper or lower decks.\n",
    "\n",
    "#Younger people also had a greater surviviability rate but that really was only mildly visible and in the folks younger than 19.\n",
    "#Further, there were 177 people who did not have an age and we assigned them the average age.  This may wildly impact the\n",
    "#findings.  Lastly, I did not overlay sex and Pclass on age which may also have had an impact.\n",
    "#2.  Did cost of the ticket matter in survivability?  In general, it appears the lower priced Class (Pclass 1) had a higher\n",
    "#likilihood of survival.  Here again, this is merely an observation and not scientific as there were many other factors which\n",
    "#need to be taken into consideration such as Sex, where on the ship their cabin was located and Age."
   ]
  },
  {
   "cell_type": "code",
   "execution_count": null,
   "metadata": {
    "collapsed": true
   },
   "outputs": [],
   "source": []
  }
 ],
 "metadata": {
  "kernelspec": {
   "display_name": "Python [conda root]",
   "language": "python",
   "name": "conda-root-py"
  },
  "language_info": {
   "codemirror_mode": {
    "name": "ipython",
    "version": 2
   },
   "file_extension": ".py",
   "mimetype": "text/x-python",
   "name": "python",
   "nbconvert_exporter": "python",
   "pygments_lexer": "ipython2",
   "version": "2.7.13"
  }
 },
 "nbformat": 4,
 "nbformat_minor": 2
}
