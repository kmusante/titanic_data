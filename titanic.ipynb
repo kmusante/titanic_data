{
 "cells": [
  {
   "cell_type": "code",
   "execution_count": 1,
   "metadata": {
    "collapsed": true
   },
   "outputs": [],
   "source": [
    "#laod CSV File as pd and name titanic_data\n",
    "#load needed libraries\n",
    "\n",
    "import numpy as np\n",
    "import pandas as pd\n",
    "import matplotlib.pyplot as plt\n",
    "from collections import defaultdict\n",
    "\n",
    "\n",
    "titanic_data=pd.read_csv(\"titanic-data.csv\")\n",
    "\n"
   ]
  },
  {
   "cell_type": "code",
   "execution_count": 2,
   "metadata": {
    "collapsed": true
   },
   "outputs": [],
   "source": [
    "#Questions I'd like to explore:\n",
    "#1.  Were the survivors more likely to be women or children?\n",
    "#2.  Did the cost of the ticket matter in survivability?"
   ]
  },
  {
   "cell_type": "code",
   "execution_count": 3,
   "metadata": {},
   "outputs": [
    {
     "name": "stdout",
     "output_type": "stream",
     "text": [
      "   PassengerId  Survived  Pclass  \\\n",
      "0            1         0       3   \n",
      "1            2         1       1   \n",
      "2            3         1       3   \n",
      "3            4         1       1   \n",
      "4            5         0       3   \n",
      "\n",
      "                                                Name     Sex   Age  SibSp  \\\n",
      "0                            Braund, Mr. Owen Harris    male  22.0      1   \n",
      "1  Cumings, Mrs. John Bradley (Florence Briggs Th...  female  38.0      1   \n",
      "2                             Heikkinen, Miss. Laina  female  26.0      0   \n",
      "3       Futrelle, Mrs. Jacques Heath (Lily May Peel)  female  35.0      1   \n",
      "4                           Allen, Mr. William Henry    male  35.0      0   \n",
      "\n",
      "   Parch            Ticket     Fare Cabin Embarked  \n",
      "0      0         A/5 21171   7.2500   NaN        S  \n",
      "1      0          PC 17599  71.2833   C85        C  \n",
      "2      0  STON/O2. 3101282   7.9250   NaN        S  \n",
      "3      0            113803  53.1000  C123        S  \n",
      "4      0            373450   8.0500   NaN        S  \n"
     ]
    }
   ],
   "source": [
    "#use this to see data when needed\n",
    "#max rows = 1000 so i can see all data\n",
    "#May not be needed but I wanted to see what the data looks like\n",
    "pd.options.display.max_rows = 1000\n",
    "print titanic_data.head()"
   ]
  },
  {
   "cell_type": "code",
   "execution_count": 4,
   "metadata": {},
   "outputs": [
    {
     "name": "stdout",
     "output_type": "stream",
     "text": [
      "Populating the interactive namespace from numpy and matplotlib\n"
     ]
    }
   ],
   "source": [
    "#magic.....really. I learned this command will activate pylab (matplotlib, numpy and interactive support)\n",
    "#still trying to understand the importance of this but i think i need to populate interactive namespace.\n",
    "#its like the 'import' commands but you dont need to 'import'\n",
    "%pylab inline"
   ]
  },
  {
   "cell_type": "code",
   "execution_count": 5,
   "metadata": {},
   "outputs": [
    {
     "name": "stdout",
     "output_type": "stream",
     "text": [
      "PassengerId  Survived  Sex     Age \n",
      "1            0         male    22.0    0\n",
      "2            1         female  38.0    1\n",
      "3            1         female  26.0    1\n",
      "4            1         female  35.0    1\n",
      "5            0         male    35.0    0\n",
      "7            0         male    54.0    0\n",
      "8            0         male    2.0     0\n",
      "9            1         female  27.0    1\n",
      "10           1         female  14.0    1\n",
      "11           1         female  4.0     1\n",
      "12           1         female  58.0    1\n",
      "13           0         male    20.0    0\n",
      "14           0         male    39.0    0\n",
      "15           0         female  14.0    0\n",
      "16           1         female  55.0    1\n",
      "Name: Survived, dtype: int64\n"
     ]
    }
   ],
   "source": [
    "#look at subset of data.  For question 1 i care more about the Survived, Sex and Age fields\n",
    "titanic_subset=titanic_data.groupby(['PassengerId', 'Survived', 'Sex', 'Age'])\n",
    "print titanic_subset['Survived'].first().head(n=15)\n",
    "\n"
   ]
  },
  {
   "cell_type": "code",
   "execution_count": 6,
   "metadata": {},
   "outputs": [
    {
     "data": {
      "text/html": [
       "<div>\n",
       "<style>\n",
       "    .dataframe thead tr:only-child th {\n",
       "        text-align: right;\n",
       "    }\n",
       "\n",
       "    .dataframe thead th {\n",
       "        text-align: left;\n",
       "    }\n",
       "\n",
       "    .dataframe tbody tr th {\n",
       "        vertical-align: top;\n",
       "    }\n",
       "</style>\n",
       "<table border=\"1\" class=\"dataframe\">\n",
       "  <thead>\n",
       "    <tr style=\"text-align: right;\">\n",
       "      <th></th>\n",
       "      <th>PassengerId</th>\n",
       "      <th>Survived</th>\n",
       "      <th>Age</th>\n",
       "    </tr>\n",
       "  </thead>\n",
       "  <tbody>\n",
       "    <tr>\n",
       "      <th>count</th>\n",
       "      <td>891.000000</td>\n",
       "      <td>891.000000</td>\n",
       "      <td>714.000000</td>\n",
       "    </tr>\n",
       "    <tr>\n",
       "      <th>mean</th>\n",
       "      <td>446.000000</td>\n",
       "      <td>0.383838</td>\n",
       "      <td>29.699118</td>\n",
       "    </tr>\n",
       "    <tr>\n",
       "      <th>std</th>\n",
       "      <td>257.353842</td>\n",
       "      <td>0.486592</td>\n",
       "      <td>14.526497</td>\n",
       "    </tr>\n",
       "    <tr>\n",
       "      <th>min</th>\n",
       "      <td>1.000000</td>\n",
       "      <td>0.000000</td>\n",
       "      <td>0.420000</td>\n",
       "    </tr>\n",
       "    <tr>\n",
       "      <th>25%</th>\n",
       "      <td>223.500000</td>\n",
       "      <td>0.000000</td>\n",
       "      <td>20.125000</td>\n",
       "    </tr>\n",
       "    <tr>\n",
       "      <th>50%</th>\n",
       "      <td>446.000000</td>\n",
       "      <td>0.000000</td>\n",
       "      <td>28.000000</td>\n",
       "    </tr>\n",
       "    <tr>\n",
       "      <th>75%</th>\n",
       "      <td>668.500000</td>\n",
       "      <td>1.000000</td>\n",
       "      <td>38.000000</td>\n",
       "    </tr>\n",
       "    <tr>\n",
       "      <th>max</th>\n",
       "      <td>891.000000</td>\n",
       "      <td>1.000000</td>\n",
       "      <td>80.000000</td>\n",
       "    </tr>\n",
       "  </tbody>\n",
       "</table>\n",
       "</div>"
      ],
      "text/plain": [
       "       PassengerId    Survived         Age\n",
       "count   891.000000  891.000000  714.000000\n",
       "mean    446.000000    0.383838   29.699118\n",
       "std     257.353842    0.486592   14.526497\n",
       "min       1.000000    0.000000    0.420000\n",
       "25%     223.500000    0.000000   20.125000\n",
       "50%     446.000000    0.000000   28.000000\n",
       "75%     668.500000    1.000000   38.000000\n",
       "max     891.000000    1.000000   80.000000"
      ]
     },
     "execution_count": 6,
     "metadata": {},
     "output_type": "execute_result"
    }
   ],
   "source": [
    "#The 4 fields i care about are PassengerID, Survived, Sex and Age for question #1\n",
    "#From this we can see 38.38% of the passengers survived\n",
    "\n",
    "four_fields=titanic_data[['PassengerId', 'Survived', 'Sex', 'Age']].describe()\n",
    "four_fields\n",
    "\n",
    "\n"
   ]
  },
  {
   "cell_type": "code",
   "execution_count": 7,
   "metadata": {},
   "outputs": [
    {
     "data": {
      "text/plain": [
       "Sex\n",
       "female    314\n",
       "male      577\n",
       "Name: Pclass, dtype: int64"
      ]
     },
     "execution_count": 7,
     "metadata": {},
     "output_type": "execute_result"
    }
   ],
   "source": [
    "#sex_at_launch is not what you expected.....it is the number of each sex at time of launch\n",
    "sex_at_launch=titanic_data.groupby(['Sex'])['Pclass'].count()\n",
    "sex_at_launch"
   ]
  },
  {
   "cell_type": "code",
   "execution_count": 8,
   "metadata": {},
   "outputs": [
    {
     "data": {
      "text/plain": [
       "<matplotlib.text.Text at 0x9f47cc0>"
      ]
     },
     "execution_count": 8,
     "metadata": {},
     "output_type": "execute_result"
    },
    {
     "data": {
      "image/png": "[encoded data removed]",
      "text/plain": [
       "<matplotlib.figure.Figure at 0x9c2ba90>"
      ]
     },
     "metadata": {},
     "output_type": "display_data"
    }
   ],
   "source": [
    "#Graphically, the division by sex_at_launch looks like this\n",
    "#titanic_data.groupby(['Sex'])[['PassengerId']].count().plot(kind='bar').set_ylabel('# Passengers')\n",
    "sex_at_launch.plot(kind='bar', title =\"Sex at time of Boarding\").set_ylabel('# Passengers')"
   ]
  },
  {
   "cell_type": "code",
   "execution_count": 9,
   "metadata": {},
   "outputs": [
    {
     "data": {
      "text/plain": [
       "Sex\n",
       "female    233\n",
       "male      109\n",
       "Name: Survived, dtype: int64"
      ]
     },
     "execution_count": 9,
     "metadata": {},
     "output_type": "execute_result"
    }
   ],
   "source": [
    "#by number of each sex by survivors looks like this\n",
    "survivors=titanic_data.groupby(['Sex'])['Survived'].sum()\n",
    "survivors"
   ]
  },
  {
   "cell_type": "code",
   "execution_count": 10,
   "metadata": {},
   "outputs": [
    {
     "data": {
      "text/plain": [
       "<matplotlib.text.Text at 0xa096cf8>"
      ]
     },
     "execution_count": 10,
     "metadata": {},
     "output_type": "execute_result"
    },
    {
     "data": {
      "image/png": "[encoded data removed]",
      "text/plain": [
       "<matplotlib.figure.Figure at 0x5edf898>"
      ]
     },
     "metadata": {},
     "output_type": "display_data"
    }
   ],
   "source": [
    "#graphically it looks like this.....\n",
    "#Even though we started with 577 males, there were over twice as many surviving females.\n",
    "\n",
    "#the below code was not used and I was just experiementing\n",
    "#titanic_data.groupby(['Sex' ])[['Survived']].count().stack().plot(kind='bar').set_ylabel('Count')\n",
    "#df_sex_survived = titanic_data[(titanic_data.Survived)==1]\n",
    "#df_sex_survived.groupby(['Sex'])[['Survived']].sum().plot(kind='bar').set_ylabel('# Survived by Sex')\n",
    "#plt.show()\n",
    "\n",
    "survivors.plot(kind='bar', title =\"Sex of Survivors\").set_ylabel('# Survivors')"
   ]
  },
  {
   "cell_type": "code",
   "execution_count": 11,
   "metadata": {},
   "outputs": [
    {
     "data": {
      "text/plain": [
       "Sex\n",
       "female    0.261504\n",
       "male      0.122334\n",
       "Name: Survived, dtype: float64"
      ]
     },
     "execution_count": 11,
     "metadata": {},
     "output_type": "execute_result"
    }
   ],
   "source": [
    "#I can tell that only 12.22% of the survivesrs were males survived and 26.15% of the survivors were females\n",
    "# even though at launch 64.76% were males and 35.24% were females\n",
    "ratio=titanic_data.groupby(['Sex'])['Survived'].sum()/891\n",
    "ratio"
   ]
  },
  {
   "cell_type": "code",
   "execution_count": 12,
   "metadata": {},
   "outputs": [
    {
     "data": {
      "text/plain": [
       "<matplotlib.text.Text at 0xa3489b0>"
      ]
     },
     "execution_count": 12,
     "metadata": {},
     "output_type": "execute_result"
    },
    {
     "data": {
      "image/png": "[encoded data removed]",
      "text/plain": [
       "<matplotlib.figure.Figure at 0xa1a7588>"
      ]
     },
     "metadata": {},
     "output_type": "display_data"
    }
   ],
   "source": [
    "#here's a histogram of the age of the passengers at time of boarding\n",
    "ax = titanic_data['Age'].hist()\n",
    "ax.set_ylabel('# of Passengers')\n",
    "ax.set_xlabel('Age')\n",
    "ax.set_title('Age distribution of Passengers at time of boarding')\n"
   ]
  },
  {
   "cell_type": "code",
   "execution_count": 13,
   "metadata": {},
   "outputs": [
    {
     "data": {
      "text/plain": [
       "<matplotlib.text.Text at 0xad684e0>"
      ]
     },
     "execution_count": 13,
     "metadata": {},
     "output_type": "execute_result"
    },
    {
     "data": {
      "image/png": "[encoded data removed]",
      "text/plain": [
       "<matplotlib.figure.Figure at 0xac65390>"
      ]
     },
     "metadata": {},
     "output_type": "display_data"
    }
   ],
   "source": [
    "#here's a histogram of the age of the surviving passengers\n",
    "#There was a bias to protect the individuals below 20 years old\n",
    "\n",
    "df_sex_survived = titanic_data[(titanic_data.Survived)==1]\n",
    "ax = df_sex_survived['Age'].hist()\n",
    "ax.set_ylabel('# of Passengers')\n",
    "ax.set_xlabel('Age')\n",
    "ax.set_title('Age distribution of Surviving Passengers')\n"
   ]
  },
  {
   "cell_type": "code",
   "execution_count": 14,
   "metadata": {
    "collapsed": true
   },
   "outputs": [],
   "source": [
    "\n",
    "#separate the categories by age so I can see graphically their ages\n",
    "\n",
    "titanic_data['age_categories'] = pd.cut(titanic_data['Age'], bins = [0,18,40,81],labels=['child','adult','senior'])"
   ]
  },
  {
   "cell_type": "code",
   "execution_count": 15,
   "metadata": {},
   "outputs": [
    {
     "data": {
      "image/png": "[encoded data removed]",
      "text/plain": [
       "<matplotlib.figure.Figure at 0xa19b278>"
      ]
     },
     "metadata": {},
     "output_type": "display_data"
    },
    {
     "data": {
      "image/png": "[encoded data removed]",
      "text/plain": [
       "<matplotlib.figure.Figure at 0xb066ac8>"
      ]
     },
     "metadata": {},
     "output_type": "display_data"
    }
   ],
   "source": [
    "#from the graph below it appears there was a concerted effort to save youth over the aged\n",
    "\n",
    "ax = titanic_data.groupby('age_categories')['Survived'].count().plot(kind='bar', color='red', position=0, title =\"Age of Survivors vs Age at time of Boarding\")\n",
    "ax2 = titanic_data.groupby('age_categories')['Survived'].sum().plot(kind='bar', color='blue', position=1)\n",
    "ax.set_xlabel(\"Age Group\")\n",
    "ax.set_ylabel(\"Blue=Survivors  Red=At time of Boarding\")\n",
    "plt.show()\n",
    "\n",
    "ax = titanic_data.groupby('age_categories')['Survived'].sum().plot(kind='bar', title =\"Age Category by Survivors\")\n",
    "ax.set_xlabel(\"Age Group\")\n",
    "ax.set_ylabel(\"Survived\")\n",
    "plt.show()"
   ]
  },
  {
   "cell_type": "code",
   "execution_count": 16,
   "metadata": {
    "collapsed": true
   },
   "outputs": [],
   "source": [
    "#In general, in response to Q#1 woman had a much higher survivability rate than men.\n",
    "#Younger people also had a greater surviviability rate but that really only was visible in the folks younger than 19"
   ]
  },
  {
   "cell_type": "code",
   "execution_count": 34,
   "metadata": {
    "collapsed": true
   },
   "outputs": [],
   "source": [
    "#for question #2 get subset of data\n",
    "titanic_subset2=titanic_data.groupby(['PassengerId', 'Survived', 'Fare', 'Pclass'])\n"
   ]
  },
  {
   "cell_type": "code",
   "execution_count": 70,
   "metadata": {},
   "outputs": [
    {
     "data": {
      "text/plain": [
       "<matplotlib.collections.PathCollection at 0x8b9837b8>"
      ]
     },
     "execution_count": 70,
     "metadata": {},
     "output_type": "execute_result"
    },
    {
     "data": {
      "image/png": "[encoded data removed]",
      "text/plain": [
       "<matplotlib.figure.Figure at 0x8b823160>"
      ]
     },
     "metadata": {},
     "output_type": "display_data"
    }
   ],
   "source": [
    "#verify there is a correlation between fare and Pclass\n",
    "#Pclass 1 is generally the most expensive and Pclass 3 the least expensive\n",
    "\n",
    "plt.scatter(x=titanic_subset2['Fare'],y=titanic_subset2['Pclass'], label=\"Pclass\")\n",
    "\n",
    "\n"
   ]
  },
  {
   "cell_type": "code",
   "execution_count": 71,
   "metadata": {},
   "outputs": [
    {
     "data": {
      "text/plain": [
       "Pclass\n",
       "1    216\n",
       "2    184\n",
       "3    491\n",
       "Name: Survived, dtype: int64"
      ]
     },
     "execution_count": 71,
     "metadata": {},
     "output_type": "execute_result"
    }
   ],
   "source": [
    "#to look at the count by Pclass at time of booking, I can do the following\n",
    "\n",
    "titanic_data.groupby(['Pclass'])['Survived'].count()"
   ]
  },
  {
   "cell_type": "code",
   "execution_count": 72,
   "metadata": {},
   "outputs": [
    {
     "data": {
      "text/plain": [
       "Pclass\n",
       "1    136\n",
       "2     87\n",
       "3    119\n",
       "Name: Survived, dtype: int64"
      ]
     },
     "execution_count": 72,
     "metadata": {},
     "output_type": "execute_result"
    }
   ],
   "source": [
    "#to look at the count by Pclass by survival, i can do the following\n",
    "\n",
    "titanic_data.groupby(['Pclass'])['Survived'].sum()"
   ]
  },
  {
   "cell_type": "code",
   "execution_count": 79,
   "metadata": {},
   "outputs": [
    {
     "data": {
      "image/png": "[encoded data removed]",
      "text/plain": [
       "<matplotlib.figure.Figure at 0x8a206c18>"
      ]
     },
     "metadata": {},
     "output_type": "display_data"
    }
   ],
   "source": [
    "ax = titanic_data.groupby(['Pclass'])['Survived'].count().plot(kind='bar', color='red', position=0, title =\"Pclass of Boarding vs Pclass of Survivors\")\n",
    "ax2 = titanic_data.groupby(['Pclass'])['Survived'].sum().plot(kind='bar', color='blue', position=1)\n",
    "ax.set_xlabel(\"Age Group\")\n",
    "ax.set_ylabel(\"Blue=Survivors  Red=At time of Boarding\")\n",
    "plt.show()\n"
   ]
  },
  {
   "cell_type": "code",
   "execution_count": null,
   "metadata": {
    "collapsed": true
   },
   "outputs": [],
   "source": [
    "#From the above graph, it appears that, all else equal, Pclass 1 survived the most and that was the LEAST expensive class!!"
   ]
  },
  {
   "cell_type": "code",
   "execution_count": null,
   "metadata": {
    "collapsed": true
   },
   "outputs": [],
   "source": [
    "#1.  Were the survivors more likely to be women or children?  Yes...it seems that females had a greater likelihood to survive.\n",
    "#Age did not seem to have a bearing on the survivability of folk after about 20 years of age.\n",
    "#2.  Did cost of the ticket matter in survivability?  In general, it appears the lower priced Class (Pclass 1) had a higher\n",
    "#likilihood of survival."
   ]
  }
 ],
 "metadata": {
  "kernelspec": {
   "display_name": "Python [conda root]",
   "language": "python",
   "name": "conda-root-py"
  },
  "language_info": {
   "codemirror_mode": {
    "name": "ipython",
    "version": 2
   },
   "file_extension": ".py",
   "mimetype": "text/x-python",
   "name": "python",
   "nbconvert_exporter": "python",
   "pygments_lexer": "ipython2",
   "version": "2.7.13"
  }
 },
 "nbformat": 4,
 "nbformat_minor": 2
}
